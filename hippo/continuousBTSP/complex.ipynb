{
 "cells": [
  {
   "cell_type": "code",
   "execution_count": 1,
   "metadata": {},
   "outputs": [
    {
     "name": "stdout",
     "output_type": "stream",
     "text": [
      "使用设备: cuda\n",
      "计算不同记忆规模与掩码比例下的平均归一化海明距离...\n",
      "\n"
     ]
    },
    {
     "name": "stderr",
     "output_type": "stream",
     "text": [
      "Training Patterns: 100%|██████████| 4/4 [00:03<00:00,  1.20it/s]\n",
      "Mask Ratios: 100%|██████████| 10/10 [00:44<00:00,  4.42s/it]\n",
      "Training Patterns: 100%|██████████| 8/8 [00:07<00:00,  1.00it/s]\n",
      "Mask Ratios: 100%|██████████| 10/10 [00:54<00:00,  5.41s/it]\n",
      "Training Patterns: 100%|██████████| 12/12 [00:15<00:00,  1.27s/it]\n",
      "Mask Ratios: 100%|██████████| 10/10 [01:08<00:00,  6.84s/it]\n",
      "Training Patterns: 100%|██████████| 16/16 [00:15<00:00,  1.00it/s]\n",
      "Mask Ratios: 100%|██████████| 10/10 [00:16<00:00,  1.60s/it]\n",
      "Training Patterns: 100%|██████████| 20/20 [00:19<00:00,  1.00it/s]\n",
      "Mask Ratios: 100%|██████████| 10/10 [00:16<00:00,  1.66s/it]\n",
      "Training Patterns: 100%|██████████| 24/24 [00:30<00:00,  1.26s/it]\n",
      "Mask Ratios: 100%|██████████| 10/10 [00:57<00:00,  5.72s/it]\n",
      "Training Patterns: 100%|██████████| 28/28 [00:28<00:00,  1.00s/it]\n",
      "Mask Ratios: 100%|██████████| 10/10 [02:52<00:00, 17.30s/it]\n",
      "Training Patterns: 100%|██████████| 32/32 [00:31<00:00,  1.01it/s]\n",
      "Mask Ratios: 100%|██████████| 10/10 [07:01<00:00, 42.19s/it]\n",
      "Training Patterns: 100%|██████████| 36/36 [00:45<00:00,  1.26s/it]\n",
      "Mask Ratios: 100%|██████████| 10/10 [09:43<00:00, 58.39s/it]\n",
      "Training Patterns: 100%|██████████| 40/40 [00:56<00:00,  1.41s/it]\n",
      "Mask Ratios: 100%|██████████| 10/10 [17:13<00:00, 103.40s/it]\n",
      "Training Patterns: 100%|██████████| 43/43 [01:00<00:00,  1.41s/it]\n",
      "Mask Ratios: 100%|██████████| 10/10 [09:59<00:00, 59.94s/it]\n",
      "Training Patterns: 100%|██████████| 47/47 [01:04<00:00,  1.37s/it]\n",
      "Mask Ratios: 100%|██████████| 10/10 [12:12<00:00, 73.25s/it]\n",
      "Training Patterns: 100%|██████████| 51/51 [01:12<00:00,  1.42s/it]\n",
      "Mask Ratios: 100%|██████████| 10/10 [39:51<00:00, 239.15s/it]\n",
      "Memory sizes: 100%|██████████| 13/13 [1:52:51<00:00, 520.89s/it] \n"
     ]
    },
    {
     "data": {
      "application/vnd.plotly.v1+json": {
       "config": {
        "plotlyServerURL": "https://plot.ly"
       },
       "data": [
        {
         "colorscale": [
          [
           0,
           "#440154"
          ],
          [
           0.1111111111111111,
           "#482878"
          ],
          [
           0.2222222222222222,
           "#3e4989"
          ],
          [
           0.3333333333333333,
           "#31688e"
          ],
          [
           0.4444444444444444,
           "#26828e"
          ],
          [
           0.5555555555555556,
           "#1f9e89"
          ],
          [
           0.6666666666666666,
           "#35b779"
          ],
          [
           0.7777777777777778,
           "#6ece58"
          ],
          [
           0.8888888888888888,
           "#b5de2b"
          ],
          [
           1,
           "#fde725"
          ]
         ],
         "type": "surface",
         "x": {
          "bdata": "AAAAAAAAAAAcx3Ecx3G8PxzHcRzHccw/VVVVVVVV1T8cx3Ecx3HcP3Icx3Ecx+E/VVVVVVVV5T84juM4juPoPxzHcRzHcew/AAAAAAAA8D8AAAAAAAAAABzHcRzHcbw/HMdxHMdxzD9VVVVVVVXVPxzHcRzHcdw/chzHcRzH4T9VVVVVVVXlPziO4ziO4+g/HMdxHMdx7D8AAAAAAADwPwAAAAAAAAAAHMdxHMdxvD8cx3Ecx3HMP1VVVVVVVdU/HMdxHMdx3D9yHMdxHMfhP1VVVVVVVeU/OI7jOI7j6D8cx3Ecx3HsPwAAAAAAAPA/AAAAAAAAAAAcx3Ecx3G8PxzHcRzHccw/VVVVVVVV1T8cx3Ecx3HcP3Icx3Ecx+E/VVVVVVVV5T84juM4juPoPxzHcRzHcew/AAAAAAAA8D8AAAAAAAAAABzHcRzHcbw/HMdxHMdxzD9VVVVVVVXVPxzHcRzHcdw/chzHcRzH4T9VVVVVVVXlPziO4ziO4+g/HMdxHMdx7D8AAAAAAADwPwAAAAAAAAAAHMdxHMdxvD8cx3Ecx3HMP1VVVVVVVdU/HMdxHMdx3D9yHMdxHMfhP1VVVVVVVeU/OI7jOI7j6D8cx3Ecx3HsPwAAAAAAAPA/AAAAAAAAAAAcx3Ecx3G8PxzHcRzHccw/VVVVVVVV1T8cx3Ecx3HcP3Icx3Ecx+E/VVVVVVVV5T84juM4juPoPxzHcRzHcew/AAAAAAAA8D8AAAAAAAAAABzHcRzHcbw/HMdxHMdxzD9VVVVVVVXVPxzHcRzHcdw/chzHcRzH4T9VVVVVVVXlPziO4ziO4+g/HMdxHMdx7D8AAAAAAADwPwAAAAAAAAAAHMdxHMdxvD8cx3Ecx3HMP1VVVVVVVdU/HMdxHMdx3D9yHMdxHMfhP1VVVVVVVeU/OI7jOI7j6D8cx3Ecx3HsPwAAAAAAAPA/AAAAAAAAAAAcx3Ecx3G8PxzHcRzHccw/VVVVVVVV1T8cx3Ecx3HcP3Icx3Ecx+E/VVVVVVVV5T84juM4juPoPxzHcRzHcew/AAAAAAAA8D8AAAAAAAAAABzHcRzHcbw/HMdxHMdxzD9VVVVVVVXVPxzHcRzHcdw/chzHcRzH4T9VVVVVVVXlPziO4ziO4+g/HMdxHMdx7D8AAAAAAADwPwAAAAAAAAAAHMdxHMdxvD8cx3Ecx3HMP1VVVVVVVdU/HMdxHMdx3D9yHMdxHMfhP1VVVVVVVeU/OI7jOI7j6D8cx3Ecx3HsPwAAAAAAAPA/AAAAAAAAAAAcx3Ecx3G8PxzHcRzHccw/VVVVVVVV1T8cx3Ecx3HcP3Icx3Ecx+E/VVVVVVVV5T84juM4juPoPxzHcRzHcew/AAAAAAAA8D8=",
          "dtype": "f8",
          "shape": "13, 10"
         },
         "y": {
          "bdata": "6APoA+gD6APoA+gD6APoA+gD6APQB9AH0AfQB9AH0AfQB9AH0AfQB7gLuAu4C7gLuAu4C7gLuAu4C7gLoA+gD6APoA+gD6APoA+gD6APoA+IE4gTiBOIE4gTiBOIE4gTiBOIE3AXcBdwF3AXcBdwF3AXcBdwF3AXWBtYG1gbWBtYG1gbWBtYG1gbWBtAH0AfQB9AH0AfQB9AH0AfQB9AHygjKCMoIygjKCMoIygjKCMoIygjECcQJxAnECcQJxAnECcQJxAnECf4Kvgq+Cr4Kvgq+Cr4Kvgq+Cr4KuAu4C7gLuAu4C7gLuAu4C7gLuAuyDLIMsgyyDLIMsgyyDLIMsgyyDI=",
          "dtype": "i2",
          "shape": "13, 10"
         },
         "z": {
          "bdata": "AAAAAAAAAAAAAAAgu7CLPwAAAIDCSa8/AAAAIGE/yD8AAAAAkjzcPwAAAGB97Oc/AAAAIGpj7j8AAACgcPDvPwAAAKD//+8/AAAAoP//7z8AAAAAAAAAAAAAAGDDOIw/AAAAoA8Prz8AAACAl6LIPwAAAGB1ttw/AAAAgJZG6D8AAABgQnbuPwAAAODv7+8/AAAAIP3/7z8AAAAAAADwPwAAAAAAAAAAAAAAoPJOjD8AAACg6eauPwAAACBhQcg/AAAAwE843D8AAABAo/7nPwAAAMALaO4/AAAAAEfu7z8AAAAg/v/vPwAAAMD//+8/AAAAAAAAAAAAAACAUX6LPwAAAEBARK8/AAAAoBo0yD8AAABgklTcPwAAAABnFOg/AAAAQEhl7j8AAAAg/O7vPwAAAED6/+8/AAAAwP//7z8AAAAAAAAAAAAAAADEqIs/AAAAIHxJrz8AAABgS17IPwAAAAAsOdw/AAAAAOMJ6D8AAAAgpGnuPwAAAOAg7u8/AAAAYPr/7z8AAAAAAADwPwAAAAAAAAAAAAAAQJjNjT8AAAAghu6vPwAAACBGtMg/AAAAQIZi3D8AAACgIQboPwAAAMBkaO4/AAAAYALv7z8AAABA+v/vPwAAAAAAAPA/AAAAAAAAAAAAAADAyHeLPwAAAGCE1q4/AAAAQF8vyD8AAACgMDjcPwAAAEDSCOg/AAAA4J5s7j8AAABgfu/vPwAAAGD7/+8/AAAAIAAA8D8AAAAAAAAAAAAAAGDTl40/AAAAoPq7rz8AAADgimXIPwAAACDuStw/AAAAAFf/5z8AAADAqWnuPwAAAABC7u8/AAAAwPz/7z8AAACg///vPwAAAAAAAAAAAAAAgEBUkD8AAAAgsQOxPwAAAGC7TMk/AAAAgBm83D8AAADg7yroPwAAAOBHce4/AAAAYF3v7z8AAADA+f/vPwAAAAAAAPA/AAAAAAAAAAAAAACAG7eRPwAAAAD5A7E/AAAA4PJByT8AAABgK6TcPwAAACAVJug/AAAAYIpv7j8AAACAo+7vPwAAAGD8/+8/AAAAIAAA8D8AAAAAAAAAAAAAACBCo5Y/AAAAoIposj8AAAAAmojJPwAAACBxx9w/AAAA4BUn6D8AAABAJ3HuPwAAAMAZ7+8/AAAAoPr/7z8AAAAAAADwPwAAAAAAAAAAAAAAANlWnz8AAACgPzG1PwAAAICcEcs/AAAAwDlQ3T8AAACga0XoPwAAAGDZeO4/AAAAYBTv7z8AAADg+//vPwAAACAAAPA/AAAAAAAAAAAAAAAgLfOmPwAAACCJ77k/AAAAYF8XzT8AAACg7evdPwAAAGAiZug/AAAAoAJ87j8AAABA3+/vPwAAAMD5/+8/AAAAwP//7z8=",
          "dtype": "f8",
          "shape": "13, 10"
         }
        }
       ],
       "layout": {
        "height": 600,
        "scene": {
         "xaxis": {
          "title": {
           "text": "掩码比例"
          }
         },
         "yaxis": {
          "title": {
           "text": "记忆模式数量"
          }
         },
         "zaxis": {
          "range": [
           0,
           2
          ],
          "title": {
           "text": "平均归一化海明距离"
          }
         }
        },
        "template": {
         "data": {
          "bar": [
           {
            "error_x": {
             "color": "#2a3f5f"
            },
            "error_y": {
             "color": "#2a3f5f"
            },
            "marker": {
             "line": {
              "color": "#E5ECF6",
              "width": 0.5
             },
             "pattern": {
              "fillmode": "overlay",
              "size": 10,
              "solidity": 0.2
             }
            },
            "type": "bar"
           }
          ],
          "barpolar": [
           {
            "marker": {
             "line": {
              "color": "#E5ECF6",
              "width": 0.5
             },
             "pattern": {
              "fillmode": "overlay",
              "size": 10,
              "solidity": 0.2
             }
            },
            "type": "barpolar"
           }
          ],
          "carpet": [
           {
            "aaxis": {
             "endlinecolor": "#2a3f5f",
             "gridcolor": "white",
             "linecolor": "white",
             "minorgridcolor": "white",
             "startlinecolor": "#2a3f5f"
            },
            "baxis": {
             "endlinecolor": "#2a3f5f",
             "gridcolor": "white",
             "linecolor": "white",
             "minorgridcolor": "white",
             "startlinecolor": "#2a3f5f"
            },
            "type": "carpet"
           }
          ],
          "choropleth": [
           {
            "colorbar": {
             "outlinewidth": 0,
             "ticks": ""
            },
            "type": "choropleth"
           }
          ],
          "contour": [
           {
            "colorbar": {
             "outlinewidth": 0,
             "ticks": ""
            },
            "colorscale": [
             [
              0,
              "#0d0887"
             ],
             [
              0.1111111111111111,
              "#46039f"
             ],
             [
              0.2222222222222222,
              "#7201a8"
             ],
             [
              0.3333333333333333,
              "#9c179e"
             ],
             [
              0.4444444444444444,
              "#bd3786"
             ],
             [
              0.5555555555555556,
              "#d8576b"
             ],
             [
              0.6666666666666666,
              "#ed7953"
             ],
             [
              0.7777777777777778,
              "#fb9f3a"
             ],
             [
              0.8888888888888888,
              "#fdca26"
             ],
             [
              1,
              "#f0f921"
             ]
            ],
            "type": "contour"
           }
          ],
          "contourcarpet": [
           {
            "colorbar": {
             "outlinewidth": 0,
             "ticks": ""
            },
            "type": "contourcarpet"
           }
          ],
          "heatmap": [
           {
            "colorbar": {
             "outlinewidth": 0,
             "ticks": ""
            },
            "colorscale": [
             [
              0,
              "#0d0887"
             ],
             [
              0.1111111111111111,
              "#46039f"
             ],
             [
              0.2222222222222222,
              "#7201a8"
             ],
             [
              0.3333333333333333,
              "#9c179e"
             ],
             [
              0.4444444444444444,
              "#bd3786"
             ],
             [
              0.5555555555555556,
              "#d8576b"
             ],
             [
              0.6666666666666666,
              "#ed7953"
             ],
             [
              0.7777777777777778,
              "#fb9f3a"
             ],
             [
              0.8888888888888888,
              "#fdca26"
             ],
             [
              1,
              "#f0f921"
             ]
            ],
            "type": "heatmap"
           }
          ],
          "histogram": [
           {
            "marker": {
             "pattern": {
              "fillmode": "overlay",
              "size": 10,
              "solidity": 0.2
             }
            },
            "type": "histogram"
           }
          ],
          "histogram2d": [
           {
            "colorbar": {
             "outlinewidth": 0,
             "ticks": ""
            },
            "colorscale": [
             [
              0,
              "#0d0887"
             ],
             [
              0.1111111111111111,
              "#46039f"
             ],
             [
              0.2222222222222222,
              "#7201a8"
             ],
             [
              0.3333333333333333,
              "#9c179e"
             ],
             [
              0.4444444444444444,
              "#bd3786"
             ],
             [
              0.5555555555555556,
              "#d8576b"
             ],
             [
              0.6666666666666666,
              "#ed7953"
             ],
             [
              0.7777777777777778,
              "#fb9f3a"
             ],
             [
              0.8888888888888888,
              "#fdca26"
             ],
             [
              1,
              "#f0f921"
             ]
            ],
            "type": "histogram2d"
           }
          ],
          "histogram2dcontour": [
           {
            "colorbar": {
             "outlinewidth": 0,
             "ticks": ""
            },
            "colorscale": [
             [
              0,
              "#0d0887"
             ],
             [
              0.1111111111111111,
              "#46039f"
             ],
             [
              0.2222222222222222,
              "#7201a8"
             ],
             [
              0.3333333333333333,
              "#9c179e"
             ],
             [
              0.4444444444444444,
              "#bd3786"
             ],
             [
              0.5555555555555556,
              "#d8576b"
             ],
             [
              0.6666666666666666,
              "#ed7953"
             ],
             [
              0.7777777777777778,
              "#fb9f3a"
             ],
             [
              0.8888888888888888,
              "#fdca26"
             ],
             [
              1,
              "#f0f921"
             ]
            ],
            "type": "histogram2dcontour"
           }
          ],
          "mesh3d": [
           {
            "colorbar": {
             "outlinewidth": 0,
             "ticks": ""
            },
            "type": "mesh3d"
           }
          ],
          "parcoords": [
           {
            "line": {
             "colorbar": {
              "outlinewidth": 0,
              "ticks": ""
             }
            },
            "type": "parcoords"
           }
          ],
          "pie": [
           {
            "automargin": true,
            "type": "pie"
           }
          ],
          "scatter": [
           {
            "fillpattern": {
             "fillmode": "overlay",
             "size": 10,
             "solidity": 0.2
            },
            "type": "scatter"
           }
          ],
          "scatter3d": [
           {
            "line": {
             "colorbar": {
              "outlinewidth": 0,
              "ticks": ""
             }
            },
            "marker": {
             "colorbar": {
              "outlinewidth": 0,
              "ticks": ""
             }
            },
            "type": "scatter3d"
           }
          ],
          "scattercarpet": [
           {
            "marker": {
             "colorbar": {
              "outlinewidth": 0,
              "ticks": ""
             }
            },
            "type": "scattercarpet"
           }
          ],
          "scattergeo": [
           {
            "marker": {
             "colorbar": {
              "outlinewidth": 0,
              "ticks": ""
             }
            },
            "type": "scattergeo"
           }
          ],
          "scattergl": [
           {
            "marker": {
             "colorbar": {
              "outlinewidth": 0,
              "ticks": ""
             }
            },
            "type": "scattergl"
           }
          ],
          "scattermap": [
           {
            "marker": {
             "colorbar": {
              "outlinewidth": 0,
              "ticks": ""
             }
            },
            "type": "scattermap"
           }
          ],
          "scattermapbox": [
           {
            "marker": {
             "colorbar": {
              "outlinewidth": 0,
              "ticks": ""
             }
            },
            "type": "scattermapbox"
           }
          ],
          "scatterpolar": [
           {
            "marker": {
             "colorbar": {
              "outlinewidth": 0,
              "ticks": ""
             }
            },
            "type": "scatterpolar"
           }
          ],
          "scatterpolargl": [
           {
            "marker": {
             "colorbar": {
              "outlinewidth": 0,
              "ticks": ""
             }
            },
            "type": "scatterpolargl"
           }
          ],
          "scatterternary": [
           {
            "marker": {
             "colorbar": {
              "outlinewidth": 0,
              "ticks": ""
             }
            },
            "type": "scatterternary"
           }
          ],
          "surface": [
           {
            "colorbar": {
             "outlinewidth": 0,
             "ticks": ""
            },
            "colorscale": [
             [
              0,
              "#0d0887"
             ],
             [
              0.1111111111111111,
              "#46039f"
             ],
             [
              0.2222222222222222,
              "#7201a8"
             ],
             [
              0.3333333333333333,
              "#9c179e"
             ],
             [
              0.4444444444444444,
              "#bd3786"
             ],
             [
              0.5555555555555556,
              "#d8576b"
             ],
             [
              0.6666666666666666,
              "#ed7953"
             ],
             [
              0.7777777777777778,
              "#fb9f3a"
             ],
             [
              0.8888888888888888,
              "#fdca26"
             ],
             [
              1,
              "#f0f921"
             ]
            ],
            "type": "surface"
           }
          ],
          "table": [
           {
            "cells": {
             "fill": {
              "color": "#EBF0F8"
             },
             "line": {
              "color": "white"
             }
            },
            "header": {
             "fill": {
              "color": "#C8D4E3"
             },
             "line": {
              "color": "white"
             }
            },
            "type": "table"
           }
          ]
         },
         "layout": {
          "annotationdefaults": {
           "arrowcolor": "#2a3f5f",
           "arrowhead": 0,
           "arrowwidth": 1
          },
          "autotypenumbers": "strict",
          "coloraxis": {
           "colorbar": {
            "outlinewidth": 0,
            "ticks": ""
           }
          },
          "colorscale": {
           "diverging": [
            [
             0,
             "#8e0152"
            ],
            [
             0.1,
             "#c51b7d"
            ],
            [
             0.2,
             "#de77ae"
            ],
            [
             0.3,
             "#f1b6da"
            ],
            [
             0.4,
             "#fde0ef"
            ],
            [
             0.5,
             "#f7f7f7"
            ],
            [
             0.6,
             "#e6f5d0"
            ],
            [
             0.7,
             "#b8e186"
            ],
            [
             0.8,
             "#7fbc41"
            ],
            [
             0.9,
             "#4d9221"
            ],
            [
             1,
             "#276419"
            ]
           ],
           "sequential": [
            [
             0,
             "#0d0887"
            ],
            [
             0.1111111111111111,
             "#46039f"
            ],
            [
             0.2222222222222222,
             "#7201a8"
            ],
            [
             0.3333333333333333,
             "#9c179e"
            ],
            [
             0.4444444444444444,
             "#bd3786"
            ],
            [
             0.5555555555555556,
             "#d8576b"
            ],
            [
             0.6666666666666666,
             "#ed7953"
            ],
            [
             0.7777777777777778,
             "#fb9f3a"
            ],
            [
             0.8888888888888888,
             "#fdca26"
            ],
            [
             1,
             "#f0f921"
            ]
           ],
           "sequentialminus": [
            [
             0,
             "#0d0887"
            ],
            [
             0.1111111111111111,
             "#46039f"
            ],
            [
             0.2222222222222222,
             "#7201a8"
            ],
            [
             0.3333333333333333,
             "#9c179e"
            ],
            [
             0.4444444444444444,
             "#bd3786"
            ],
            [
             0.5555555555555556,
             "#d8576b"
            ],
            [
             0.6666666666666666,
             "#ed7953"
            ],
            [
             0.7777777777777778,
             "#fb9f3a"
            ],
            [
             0.8888888888888888,
             "#fdca26"
            ],
            [
             1,
             "#f0f921"
            ]
           ]
          },
          "colorway": [
           "#636efa",
           "#EF553B",
           "#00cc96",
           "#ab63fa",
           "#FFA15A",
           "#19d3f3",
           "#FF6692",
           "#B6E880",
           "#FF97FF",
           "#FECB52"
          ],
          "font": {
           "color": "#2a3f5f"
          },
          "geo": {
           "bgcolor": "white",
           "lakecolor": "white",
           "landcolor": "#E5ECF6",
           "showlakes": true,
           "showland": true,
           "subunitcolor": "white"
          },
          "hoverlabel": {
           "align": "left"
          },
          "hovermode": "closest",
          "mapbox": {
           "style": "light"
          },
          "paper_bgcolor": "white",
          "plot_bgcolor": "#E5ECF6",
          "polar": {
           "angularaxis": {
            "gridcolor": "white",
            "linecolor": "white",
            "ticks": ""
           },
           "bgcolor": "#E5ECF6",
           "radialaxis": {
            "gridcolor": "white",
            "linecolor": "white",
            "ticks": ""
           }
          },
          "scene": {
           "xaxis": {
            "backgroundcolor": "#E5ECF6",
            "gridcolor": "white",
            "gridwidth": 2,
            "linecolor": "white",
            "showbackground": true,
            "ticks": "",
            "zerolinecolor": "white"
           },
           "yaxis": {
            "backgroundcolor": "#E5ECF6",
            "gridcolor": "white",
            "gridwidth": 2,
            "linecolor": "white",
            "showbackground": true,
            "ticks": "",
            "zerolinecolor": "white"
           },
           "zaxis": {
            "backgroundcolor": "#E5ECF6",
            "gridcolor": "white",
            "gridwidth": 2,
            "linecolor": "white",
            "showbackground": true,
            "ticks": "",
            "zerolinecolor": "white"
           }
          },
          "shapedefaults": {
           "line": {
            "color": "#2a3f5f"
           }
          },
          "ternary": {
           "aaxis": {
            "gridcolor": "white",
            "linecolor": "white",
            "ticks": ""
           },
           "baxis": {
            "gridcolor": "white",
            "linecolor": "white",
            "ticks": ""
           },
           "bgcolor": "#E5ECF6",
           "caxis": {
            "gridcolor": "white",
            "linecolor": "white",
            "ticks": ""
           }
          },
          "title": {
           "x": 0.05
          },
          "xaxis": {
           "automargin": true,
           "gridcolor": "white",
           "linecolor": "white",
           "ticks": "",
           "title": {
            "standoff": 15
           },
           "zerolinecolor": "white",
           "zerolinewidth": 2
          },
          "yaxis": {
           "automargin": true,
           "gridcolor": "white",
           "linecolor": "white",
           "ticks": "",
           "title": {
            "standoff": 15
           },
           "zerolinecolor": "white",
           "zerolinewidth": 2
          }
         }
        },
        "title": {
         "text": "连续 BTSP 网络：记忆规模 × 掩码比例下的记忆保留效果"
        },
        "width": 800
       }
      }
     },
     "metadata": {},
     "output_type": "display_data"
    }
   ],
   "source": [
    "import torch\n",
    "import numpy as np\n",
    "from tqdm import tqdm\n",
    "import plotly.graph_objects as go\n",
    "from continuousBTSP import continuousBTSPNetwork\n",
    "import os\n",
    "os.environ[\"KMP_DUPLICATE_LIB_OK\"] = \"TRUE\"\n",
    "\n",
    "# ---------------- 参数设置 ----------------\n",
    "n_input = 10000       # CA3 神经元数量\n",
    "n_memory = 15000      # CA1 神经元数量\n",
    "fq = 0.0025           # BTSP 更新概率（突触翻转概率）\n",
    "fp = 0.005            # 输入稀疏度\n",
    "fw = 0.6              # 连接稀疏度\n",
    "batch_size = 256\n",
    "n_repeats = 10        # 掩码重复次数\n",
    "n_subsynapses = 8     # 子突触数量\n",
    "\n",
    "# ---------------- 设备选择 ----------------\n",
    "device = torch.device(\"cuda\" if torch.cuda.is_available() else \"cpu\")\n",
    "print(f\"使用设备: {device}\")\n",
    "\n",
    "# ---------------- 扫描参数 ----------------\n",
    "memory_sizes = np.arange(1000, 13001, 1000)  # 不同记忆规模\n",
    "mask_ratios = np.linspace(0, 1.0, 10)       # 掩码比例\n",
    "\n",
    "# 结果矩阵 (行: 记忆规模, 列: 掩码比例)\n",
    "results = np.zeros((len(memory_sizes), len(mask_ratios)))\n",
    "\n",
    "print(\"计算不同记忆规模与掩码比例下的平均归一化海明距离...\\n\")\n",
    "\n",
    "# ---------------- 主循环 ----------------\n",
    "for i, n_pat in enumerate(tqdm(memory_sizes, desc=\"Memory sizes\")):\n",
    "    # 初始化连续 BTSP 网络\n",
    "    net = continuousBTSPNetwork(\n",
    "        n_input=n_input,\n",
    "        n_memory=n_memory,\n",
    "        fq=fq,\n",
    "        fp=fp,\n",
    "        fw=fw,\n",
    "        device=device,\n",
    "        n_subsynapses=n_subsynapses,\n",
    "        threshold=8\n",
    "    )\n",
    "\n",
    "    # 生成稀疏输入模式\n",
    "    patterns = net.make_sparse_patterns(n_pat)\n",
    "\n",
    "    # 训练网络\n",
    "    net.train_patterns(patterns, batch_size=batch_size)\n",
    "\n",
    "    # 评估记忆保留效果\n",
    "    mean_rel_diss = net.compute_relative_dissimilarity_vectorized_fast(\n",
    "        patterns=patterns,\n",
    "        mask_ratios=mask_ratios,\n",
    "        n_repeats=n_repeats,\n",
    "        batch_size=batch_size\n",
    "    )\n",
    "\n",
    "    results[i, :] = mean_rel_diss\n",
    "\n",
    "# ---------------- 绘制 3D surface ----------------\n",
    "X, Y = np.meshgrid(mask_ratios, memory_sizes)\n",
    "Z = results\n",
    "\n",
    "fig = go.Figure(data=[go.Surface(z=Z, x=X, y=Y, colorscale='Viridis')])\n",
    "fig.update_layout(\n",
    "    title=\"连续 BTSP 网络：记忆规模 × 掩码比例下的记忆保留效果\",\n",
    "    scene=dict(\n",
    "        xaxis_title=\"掩码比例\",\n",
    "        yaxis_title=\"记忆模式数量\",\n",
    "        zaxis_title=\"平均归一化海明距离\",\n",
    "        zaxis=dict(range=[0, 2])\n",
    "    ),\n",
    "    width=800,\n",
    "    height=600\n",
    ")\n",
    "\n",
    "fig.show()"
   ]
  },
  {
   "cell_type": "markdown",
   "metadata": {},
   "source": []
  }
 ],
 "metadata": {
  "kernelspec": {
   "display_name": "simplebtsp",
   "language": "python",
   "name": "python3"
  },
  "language_info": {
   "codemirror_mode": {
    "name": "ipython",
    "version": 3
   },
   "file_extension": ".py",
   "mimetype": "text/x-python",
   "name": "python",
   "nbconvert_exporter": "python",
   "pygments_lexer": "ipython3",
   "version": "3.9.23"
  }
 },
 "nbformat": 4,
 "nbformat_minor": 2
}
