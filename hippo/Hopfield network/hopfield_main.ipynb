{
 "cells": [
  {
   "cell_type": "code",
   "execution_count": 16,
   "id": "853e4ad4",
   "metadata": {},
   "outputs": [],
   "source": [
    "import numpy as np\n",
    "import torch\n",
    "from hopfield_network import HopfieldNetwork, compute_relative_dissimilarity\n",
    "import matplotlib.pyplot as plt\n",
    "from mpl_toolkits.mplot3d import Axes3D\n",
    "import os\n",
    "os.environ[\"KMP_DUPLICATE_LIB_OK\"] = \"TRUE\"\n",
    "\n",
    "\n",
    "\n",
    "# 固定神经元数量\n",
    "n_neurons = 400\n",
    "device = \"cuda\" if torch.cuda.is_available() else \"cpu\"\n",
    "\n",
    "# 参数范围\n",
    "pattern_range = [5, 10,15,20, 25, 30,45,50,55,60,65,70,75,80,85,90]   # 记忆模式规模\n",
    "mask_range = np.linspace(0.0, 0.9, 20)      # 掩码比例\n",
    "\n",
    "# 结果矩阵\n",
    "results = np.zeros((len(pattern_range), len(mask_range)))\n",
    "\n",
    "for i, n_patterns in enumerate(pattern_range):\n",
    "    # 生成模式\n",
    "    patterns = torch.randint(0, 2, (n_patterns, n_neurons), device=device) * 2 - 1\n",
    "    patterns = patterns.float()\n",
    "    # 训练 Hopfield\n",
    "    net = HopfieldNetwork(n_neurons, device)\n",
    "    net.store_patterns(patterns)\n",
    "\n",
    "    for j, m in enumerate(mask_range):\n",
    "        rel_diss = compute_relative_dissimilarity(net, patterns, mask_ratio=m)\n",
    "        results[i, j] = rel_diss  # 存储相对不相似度\n"
   ]
  },
  {
   "cell_type": "code",
   "execution_count": 17,
   "id": "32138c8d",
   "metadata": {},
   "outputs": [
    {
     "data": {
      "application/vnd.plotly.v1+json": {
       "config": {
        "plotlyServerURL": "https://plot.ly"
       },
       "data": [
        {
         "colorscale": [
          [
           0,
           "#440154"
          ],
          [
           0.1111111111111111,
           "#482878"
          ],
          [
           0.2222222222222222,
           "#3e4989"
          ],
          [
           0.3333333333333333,
           "#31688e"
          ],
          [
           0.4444444444444444,
           "#26828e"
          ],
          [
           0.5555555555555556,
           "#1f9e89"
          ],
          [
           0.6666666666666666,
           "#35b779"
          ],
          [
           0.7777777777777778,
           "#6ece58"
          ],
          [
           0.8888888888888888,
           "#b5de2b"
          ],
          [
           1,
           "#fde725"
          ]
         ],
         "type": "surface",
         "x": {
          "bdata": "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",
          "dtype": "f8",
          "shape": "16, 20"
         },
         "y": {
          "bdata": "BQUFBQUFBQUFBQUFBQUFBQUFBQUKCgoKCgoKCgoKCgoKCgoKCgoKCg8PDw8PDw8PDw8PDw8PDw8PDw8PFBQUFBQUFBQUFBQUFBQUFBQUFBQZGRkZGRkZGRkZGRkZGRkZGRkZGR4eHh4eHh4eHh4eHh4eHh4eHh4eLS0tLS0tLS0tLS0tLS0tLS0tLS0yMjIyMjIyMjIyMjIyMjIyMjIyMjc3Nzc3Nzc3Nzc3Nzc3Nzc3Nzc3PDw8PDw8PDw8PDw8PDw8PDw8PDxBQUFBQUFBQUFBQUFBQUFBQUFBQUZGRkZGRkZGRkZGRkZGRkZGRkZGS0tLS0tLS0tLS0tLS0tLS0tLS0tQUFBQUFBQUFBQUFBQUFBQUFBQUFVVVVVVVVVVVVVVVVVVVVVVVVVVWlpaWlpaWlpaWlpaWlpaWlpaWlo=",
          "dtype": "i1",
          "shape": "16, 20"
         },
         "z": {
          "bdata": "AAAAAAAAAAAAAAAAAAAAAAAAAAAAAAAAAAAAAAAAAAAAAAAAAAAAAAAAAAAAAAAAAAAAAAAAAAAAAAAAAAAAAAAAAAAAAAAAAAAAAAAAAAAAAAAAAAAAAAAAAAAAAAAAAAAAAAAAAAAAAAAAAAAAAAAAAAAAAAAAAAAAAAAAAAAAAAAAAAAAAAAAAAAAAAAAAAAAAAAAAAAAAAAAAAAAAAAAAAAAAAAAAAAAAAAAAAAAAAAAAAAAAAAAAAAAAAAAAAAAAAAAAAAAAAAAAAAAAAAAAAAAAAAAAAAAAAAAAAAAAAAAAAAAAAAAAAAAAAAAAAAAAAAAAAAAAAAAAAAAAAAAAAAAAAAAAAAAAAAAAAAAAAAAAAAAAAAAAAAAAAAAAAAAAAAAAAAAAAAAAAAAAAAAAAAAAAAAAAAAAAAAAAAAAAAAAAAAAAAAAAAAAAAAAAAAAAAAAAAAAAAAAAAAAAAAAAAAAAAAAAAAAAAAAAAAAAAAAAAAAAAAAAAAAAAAAAAAAAAAAAAAAAAAAAAAAAAAAAAAAAAAAAAAAAAAAAAAAAAAAAAAAAAAAAAAAAAAAAAAAAAAAAAAAAAAAAAAAAAAAAAAAAAAAAAAAAAAAAAAAAAAAAAAAAAAAAAAAAAAAAAAAAAAAAAAAAAAAAAAAAAAAAAAAAAAAAAAAAAAAAAAAAAAAAAAAAAAAAAAAAAAAAAAAAAAAAAAAAAAAAAAAAAAAAAAAAAAAAAAAAAAAAAAAAAAAAAAAAAAAAAAAAAAAAAAAAAAAAAAAAAAAAAAAAAAAAAAAAAAAAAAAAAAAAAAAAAAAAAAAAAAAAAAAAAAAAAAAAAAAADZDVbeErOGPwAAAAAAAAAAAAAAAAAAAAAAAAAAAAAAAAAAAAAAAAAAAAAAAAAAAAAAAAAAAAAAAAAAAAAAAAAAAAAAAAAAAAAAAAAAAAAAAAAAAAAAAAAAAAAAAAAAAAAAAAAAAAAAAAAAAAAAAAAAAAAAAAAAAAAAAAAAAAAAAAAAAAAAAAAAAAAAAAAAAAAAAAAAAAAAAAAAAAAAAAAAlu3FTV10kz8AAAAAAAAAAAAAAAAAAAAAAAAAAAAAAAAAAAAAAAAAAAAAAAAAAAAAAAAAAAAAAAAAAAAAAAAAAAAAAAAAAAAAAAAAAAAAAAAAAAAAAAAAAAAAAAAAAAAAAAAAAAAAAAAAAAAAAAAAAAAAAAAAAAAAAAAAAAAAAACpTdN87gNkP61KDvthtlE/Qlz1XvFrdD8eYTI8Pc+RP+KWu1XHVbY/AAAAAAAAAADzhqkrXr0wPwfG6+UeHVg/IqrA3jgeNz9ir3Hh/YRcP3Y+dA5VTWA/aeUP1u5sVj/hq81tbIVBPySeEQvDY2s/K8BJSwJOcz8oFEp3zTBnP8YQIDPgnHg/Yy0sdf12cz98N7+Nm6B9P7e73dUAy44/xlWqSnbJkz//99ldBBygP2nX6tpi/7w/ntoHA6Hvvz8J/PSfI0XUPwAAAAAAAAAAWvxp/IqpOT9EodQ2JedRP18vj9j7PUc/gN4izkSjVz8oshuDS1VaP2MYYod4v0c/pooiQ6eFcj+xYSaEER9zP1zj3gB/onU/pinv1FOohj+UhM2KerZ+PylqoAfSo4s/oADVM4q5iT+OPRTqawagP0l1j3NeA6U/2sGHcdTDrT+yucLh28+7P9H3Md6/f8Y/JOEDwfkT1T8AAAAAAAAAAB7ys5/IPFc/g0PNgTJvWT+eG0U9DUp0P9+GGG9ZQno/Q+VCcYWedD9H6gQWr2uFPyQ91KMgQIA/5qsFk+xmhz/qRoBEuACWP5Mmoqb7dJo/oyK29T+hnT/Khk/ZrR6jP8NivuJ79Kc/L32c6TRksj9mi1lMzxXAPxguW+d4kcQ/KJisap5uyj8PwGO1nx7VP7GB10REeNk/AAAAAAAAAAB2HXNmG29iP41laDmdD1w/DTKA2+WGbD+Z6kRWG8R5PyyY48lu+3U/c3kw6aSKcT9f0OvDduB/P2DEWKJPi4Q/jy7QpBTniz8bMYy96SaNP9kdvncZapI/Y9+yq2pwoj8TNDAL0OCjP3/3T+C+cK8/OT6BidEPuj+Tg0m8lHzEP936oCm1R80/GkEF2HCy0z/v2biWRDndPwAAAAAAAAAA8GqME1YRcj/AbU9E5AGHP7OIf75ljYk/3cEz4S72jz+jaClg9FyUP6isGMRC9J0/DVz4FV+poz+G1zqcMa+gP6x9JyuazqY/V8bOjTVdqj9vFY+f46ipPzM5sW8SFbQ/V4qzTB7LuT8oaAjXN5fAPyi217f9UMU/Gj7mr8zyyT+eae40zUnSP6zT6gamOtY/Zz4kJctn3j8AAAAAAAAAAD6WiRcdgYI/JLb0pXXdiz/Qb9jw7pqNP0GkB36jXpI/mx4YVCy5nT/1WHcFsOyaP8bY5X+g1aE/awqcOOmjoj9SstK916WtP1dp3RtJF7E/1NjmA5WCtT92EF/2s9u3P3MfJbDILbw/qO5KF/ngwj9a0GBh3RfKP5/AxoEOXs0/cAw4ml+T1D9x2Oao543ZPztcGRYipN8/AAAAAAAAAAAlRmMIyH6QP0dhpjAnPZs/qDy7H+odoz+QpLfLwDGiPw16uhGF3KI/tw+5h4+drD97UWNfbnuwP5nYxIy0NrA/4/1dX3SqtD+WfuhFOim3P3tm0NHDrr8/Ig8HmtrMwT8ybLNeuK7FP6HSSKEwAck/9C9iHQgDzz9mnyppHDrRPzd8uE8gDdc/Ft38nVjH2j+schiKYPfgPwAAAAAAAAAApmQulFtvnD9QRXy93TCgPzqo9m16zKQ/5gekVioCoz/6E31w9emsP1YgOc81ea4/EtFmexFZsT+if0WdUgm3P1Jk2lZ94rY/w1foP7+pvT9Mmgs2pTLDP1ByhlIQAMc/CGPEKN+6yz8d0wOjp47PP4dPRVfwqdA/4SUmzgyl0j/mbvUKOjLXP0KvEH1pQt0/xn6ebTG74T8AAAAAAAAAAOPCuj2J56A/q00UgkpvoT+kv+WxuOOnP4jog0khAak/cgL+uWdLrT/Go679E/2wP4Vl97uGH7Q/noVSiZ1XtT/0JtOUYbm8P47XySM8CsA/eupLlrRiwT8WnDC1wrTDP2EQAQMNqMY/vOfVuXJBzD/j273EBD3QP5l05LNPgdQ/f3ilB76F1j9FcxXcHAvcPz8C2TRKuuE/AAAAAAAAAAC5xWHXEYOlP8Y218zd2qo/C9GLDXndrj/Wfe3Wo1SyP+0j5WVTC7M/akIONnGbtj8DzM14dSm5PwGrMQpnBb4/6Q1RWwM/wT+U2KGycg3DPzl2eXzJm8Q/+Vk23qDbxj9J9cKiUybLP03OsPkOqM4/BSh503M+0z+B4JlO/jfUP0Cf85oAqtc/MoRpeD023T/ON3lvynjhPw==",
          "dtype": "f8",
          "shape": "16, 20"
         }
        }
       ],
       "layout": {
        "height": 600,
        "scene": {
         "xaxis": {
          "title": {
           "text": "掩码比例"
          }
         },
         "yaxis": {
          "title": {
           "text": "记忆模式数量"
          }
         },
         "zaxis": {
          "title": {
           "text": "相对不相似度"
          }
         }
        },
        "template": {
         "data": {
          "bar": [
           {
            "error_x": {
             "color": "#2a3f5f"
            },
            "error_y": {
             "color": "#2a3f5f"
            },
            "marker": {
             "line": {
              "color": "#E5ECF6",
              "width": 0.5
             },
             "pattern": {
              "fillmode": "overlay",
              "size": 10,
              "solidity": 0.2
             }
            },
            "type": "bar"
           }
          ],
          "barpolar": [
           {
            "marker": {
             "line": {
              "color": "#E5ECF6",
              "width": 0.5
             },
             "pattern": {
              "fillmode": "overlay",
              "size": 10,
              "solidity": 0.2
             }
            },
            "type": "barpolar"
           }
          ],
          "carpet": [
           {
            "aaxis": {
             "endlinecolor": "#2a3f5f",
             "gridcolor": "white",
             "linecolor": "white",
             "minorgridcolor": "white",
             "startlinecolor": "#2a3f5f"
            },
            "baxis": {
             "endlinecolor": "#2a3f5f",
             "gridcolor": "white",
             "linecolor": "white",
             "minorgridcolor": "white",
             "startlinecolor": "#2a3f5f"
            },
            "type": "carpet"
           }
          ],
          "choropleth": [
           {
            "colorbar": {
             "outlinewidth": 0,
             "ticks": ""
            },
            "type": "choropleth"
           }
          ],
          "contour": [
           {
            "colorbar": {
             "outlinewidth": 0,
             "ticks": ""
            },
            "colorscale": [
             [
              0,
              "#0d0887"
             ],
             [
              0.1111111111111111,
              "#46039f"
             ],
             [
              0.2222222222222222,
              "#7201a8"
             ],
             [
              0.3333333333333333,
              "#9c179e"
             ],
             [
              0.4444444444444444,
              "#bd3786"
             ],
             [
              0.5555555555555556,
              "#d8576b"
             ],
             [
              0.6666666666666666,
              "#ed7953"
             ],
             [
              0.7777777777777778,
              "#fb9f3a"
             ],
             [
              0.8888888888888888,
              "#fdca26"
             ],
             [
              1,
              "#f0f921"
             ]
            ],
            "type": "contour"
           }
          ],
          "contourcarpet": [
           {
            "colorbar": {
             "outlinewidth": 0,
             "ticks": ""
            },
            "type": "contourcarpet"
           }
          ],
          "heatmap": [
           {
            "colorbar": {
             "outlinewidth": 0,
             "ticks": ""
            },
            "colorscale": [
             [
              0,
              "#0d0887"
             ],
             [
              0.1111111111111111,
              "#46039f"
             ],
             [
              0.2222222222222222,
              "#7201a8"
             ],
             [
              0.3333333333333333,
              "#9c179e"
             ],
             [
              0.4444444444444444,
              "#bd3786"
             ],
             [
              0.5555555555555556,
              "#d8576b"
             ],
             [
              0.6666666666666666,
              "#ed7953"
             ],
             [
              0.7777777777777778,
              "#fb9f3a"
             ],
             [
              0.8888888888888888,
              "#fdca26"
             ],
             [
              1,
              "#f0f921"
             ]
            ],
            "type": "heatmap"
           }
          ],
          "histogram": [
           {
            "marker": {
             "pattern": {
              "fillmode": "overlay",
              "size": 10,
              "solidity": 0.2
             }
            },
            "type": "histogram"
           }
          ],
          "histogram2d": [
           {
            "colorbar": {
             "outlinewidth": 0,
             "ticks": ""
            },
            "colorscale": [
             [
              0,
              "#0d0887"
             ],
             [
              0.1111111111111111,
              "#46039f"
             ],
             [
              0.2222222222222222,
              "#7201a8"
             ],
             [
              0.3333333333333333,
              "#9c179e"
             ],
             [
              0.4444444444444444,
              "#bd3786"
             ],
             [
              0.5555555555555556,
              "#d8576b"
             ],
             [
              0.6666666666666666,
              "#ed7953"
             ],
             [
              0.7777777777777778,
              "#fb9f3a"
             ],
             [
              0.8888888888888888,
              "#fdca26"
             ],
             [
              1,
              "#f0f921"
             ]
            ],
            "type": "histogram2d"
           }
          ],
          "histogram2dcontour": [
           {
            "colorbar": {
             "outlinewidth": 0,
             "ticks": ""
            },
            "colorscale": [
             [
              0,
              "#0d0887"
             ],
             [
              0.1111111111111111,
              "#46039f"
             ],
             [
              0.2222222222222222,
              "#7201a8"
             ],
             [
              0.3333333333333333,
              "#9c179e"
             ],
             [
              0.4444444444444444,
              "#bd3786"
             ],
             [
              0.5555555555555556,
              "#d8576b"
             ],
             [
              0.6666666666666666,
              "#ed7953"
             ],
             [
              0.7777777777777778,
              "#fb9f3a"
             ],
             [
              0.8888888888888888,
              "#fdca26"
             ],
             [
              1,
              "#f0f921"
             ]
            ],
            "type": "histogram2dcontour"
           }
          ],
          "mesh3d": [
           {
            "colorbar": {
             "outlinewidth": 0,
             "ticks": ""
            },
            "type": "mesh3d"
           }
          ],
          "parcoords": [
           {
            "line": {
             "colorbar": {
              "outlinewidth": 0,
              "ticks": ""
             }
            },
            "type": "parcoords"
           }
          ],
          "pie": [
           {
            "automargin": true,
            "type": "pie"
           }
          ],
          "scatter": [
           {
            "fillpattern": {
             "fillmode": "overlay",
             "size": 10,
             "solidity": 0.2
            },
            "type": "scatter"
           }
          ],
          "scatter3d": [
           {
            "line": {
             "colorbar": {
              "outlinewidth": 0,
              "ticks": ""
             }
            },
            "marker": {
             "colorbar": {
              "outlinewidth": 0,
              "ticks": ""
             }
            },
            "type": "scatter3d"
           }
          ],
          "scattercarpet": [
           {
            "marker": {
             "colorbar": {
              "outlinewidth": 0,
              "ticks": ""
             }
            },
            "type": "scattercarpet"
           }
          ],
          "scattergeo": [
           {
            "marker": {
             "colorbar": {
              "outlinewidth": 0,
              "ticks": ""
             }
            },
            "type": "scattergeo"
           }
          ],
          "scattergl": [
           {
            "marker": {
             "colorbar": {
              "outlinewidth": 0,
              "ticks": ""
             }
            },
            "type": "scattergl"
           }
          ],
          "scattermap": [
           {
            "marker": {
             "colorbar": {
              "outlinewidth": 0,
              "ticks": ""
             }
            },
            "type": "scattermap"
           }
          ],
          "scattermapbox": [
           {
            "marker": {
             "colorbar": {
              "outlinewidth": 0,
              "ticks": ""
             }
            },
            "type": "scattermapbox"
           }
          ],
          "scatterpolar": [
           {
            "marker": {
             "colorbar": {
              "outlinewidth": 0,
              "ticks": ""
             }
            },
            "type": "scatterpolar"
           }
          ],
          "scatterpolargl": [
           {
            "marker": {
             "colorbar": {
              "outlinewidth": 0,
              "ticks": ""
             }
            },
            "type": "scatterpolargl"
           }
          ],
          "scatterternary": [
           {
            "marker": {
             "colorbar": {
              "outlinewidth": 0,
              "ticks": ""
             }
            },
            "type": "scatterternary"
           }
          ],
          "surface": [
           {
            "colorbar": {
             "outlinewidth": 0,
             "ticks": ""
            },
            "colorscale": [
             [
              0,
              "#0d0887"
             ],
             [
              0.1111111111111111,
              "#46039f"
             ],
             [
              0.2222222222222222,
              "#7201a8"
             ],
             [
              0.3333333333333333,
              "#9c179e"
             ],
             [
              0.4444444444444444,
              "#bd3786"
             ],
             [
              0.5555555555555556,
              "#d8576b"
             ],
             [
              0.6666666666666666,
              "#ed7953"
             ],
             [
              0.7777777777777778,
              "#fb9f3a"
             ],
             [
              0.8888888888888888,
              "#fdca26"
             ],
             [
              1,
              "#f0f921"
             ]
            ],
            "type": "surface"
           }
          ],
          "table": [
           {
            "cells": {
             "fill": {
              "color": "#EBF0F8"
             },
             "line": {
              "color": "white"
             }
            },
            "header": {
             "fill": {
              "color": "#C8D4E3"
             },
             "line": {
              "color": "white"
             }
            },
            "type": "table"
           }
          ]
         },
         "layout": {
          "annotationdefaults": {
           "arrowcolor": "#2a3f5f",
           "arrowhead": 0,
           "arrowwidth": 1
          },
          "autotypenumbers": "strict",
          "coloraxis": {
           "colorbar": {
            "outlinewidth": 0,
            "ticks": ""
           }
          },
          "colorscale": {
           "diverging": [
            [
             0,
             "#8e0152"
            ],
            [
             0.1,
             "#c51b7d"
            ],
            [
             0.2,
             "#de77ae"
            ],
            [
             0.3,
             "#f1b6da"
            ],
            [
             0.4,
             "#fde0ef"
            ],
            [
             0.5,
             "#f7f7f7"
            ],
            [
             0.6,
             "#e6f5d0"
            ],
            [
             0.7,
             "#b8e186"
            ],
            [
             0.8,
             "#7fbc41"
            ],
            [
             0.9,
             "#4d9221"
            ],
            [
             1,
             "#276419"
            ]
           ],
           "sequential": [
            [
             0,
             "#0d0887"
            ],
            [
             0.1111111111111111,
             "#46039f"
            ],
            [
             0.2222222222222222,
             "#7201a8"
            ],
            [
             0.3333333333333333,
             "#9c179e"
            ],
            [
             0.4444444444444444,
             "#bd3786"
            ],
            [
             0.5555555555555556,
             "#d8576b"
            ],
            [
             0.6666666666666666,
             "#ed7953"
            ],
            [
             0.7777777777777778,
             "#fb9f3a"
            ],
            [
             0.8888888888888888,
             "#fdca26"
            ],
            [
             1,
             "#f0f921"
            ]
           ],
           "sequentialminus": [
            [
             0,
             "#0d0887"
            ],
            [
             0.1111111111111111,
             "#46039f"
            ],
            [
             0.2222222222222222,
             "#7201a8"
            ],
            [
             0.3333333333333333,
             "#9c179e"
            ],
            [
             0.4444444444444444,
             "#bd3786"
            ],
            [
             0.5555555555555556,
             "#d8576b"
            ],
            [
             0.6666666666666666,
             "#ed7953"
            ],
            [
             0.7777777777777778,
             "#fb9f3a"
            ],
            [
             0.8888888888888888,
             "#fdca26"
            ],
            [
             1,
             "#f0f921"
            ]
           ]
          },
          "colorway": [
           "#636efa",
           "#EF553B",
           "#00cc96",
           "#ab63fa",
           "#FFA15A",
           "#19d3f3",
           "#FF6692",
           "#B6E880",
           "#FF97FF",
           "#FECB52"
          ],
          "font": {
           "color": "#2a3f5f"
          },
          "geo": {
           "bgcolor": "white",
           "lakecolor": "white",
           "landcolor": "#E5ECF6",
           "showlakes": true,
           "showland": true,
           "subunitcolor": "white"
          },
          "hoverlabel": {
           "align": "left"
          },
          "hovermode": "closest",
          "mapbox": {
           "style": "light"
          },
          "paper_bgcolor": "white",
          "plot_bgcolor": "#E5ECF6",
          "polar": {
           "angularaxis": {
            "gridcolor": "white",
            "linecolor": "white",
            "ticks": ""
           },
           "bgcolor": "#E5ECF6",
           "radialaxis": {
            "gridcolor": "white",
            "linecolor": "white",
            "ticks": ""
           }
          },
          "scene": {
           "xaxis": {
            "backgroundcolor": "#E5ECF6",
            "gridcolor": "white",
            "gridwidth": 2,
            "linecolor": "white",
            "showbackground": true,
            "ticks": "",
            "zerolinecolor": "white"
           },
           "yaxis": {
            "backgroundcolor": "#E5ECF6",
            "gridcolor": "white",
            "gridwidth": 2,
            "linecolor": "white",
            "showbackground": true,
            "ticks": "",
            "zerolinecolor": "white"
           },
           "zaxis": {
            "backgroundcolor": "#E5ECF6",
            "gridcolor": "white",
            "gridwidth": 2,
            "linecolor": "white",
            "showbackground": true,
            "ticks": "",
            "zerolinecolor": "white"
           }
          },
          "shapedefaults": {
           "line": {
            "color": "#2a3f5f"
           }
          },
          "ternary": {
           "aaxis": {
            "gridcolor": "white",
            "linecolor": "white",
            "ticks": ""
           },
           "baxis": {
            "gridcolor": "white",
            "linecolor": "white",
            "ticks": ""
           },
           "bgcolor": "#E5ECF6",
           "caxis": {
            "gridcolor": "white",
            "linecolor": "white",
            "ticks": ""
           }
          },
          "title": {
           "x": 0.05
          },
          "xaxis": {
           "automargin": true,
           "gridcolor": "white",
           "linecolor": "white",
           "ticks": "",
           "title": {
            "standoff": 15
           },
           "zerolinecolor": "white",
           "zerolinewidth": 2
          },
          "yaxis": {
           "automargin": true,
           "gridcolor": "white",
           "linecolor": "white",
           "ticks": "",
           "title": {
            "standoff": 15
           },
           "zerolinecolor": "white",
           "zerolinewidth": 2
          }
         }
        },
        "width": 800
       }
      }
     },
     "metadata": {},
     "output_type": "display_data"
    }
   ],
   "source": [
    "import plotly.graph_objects as go\n",
    "import numpy as np\n",
    "\n",
    "# ---------------- 绘制三维交互图 ----------------\n",
    "X, Y = np.meshgrid(mask_range, pattern_range)\n",
    "Z = results\n",
    "\n",
    "fig = go.Figure(data=[go.Surface(z=Z, x=X, y=Y, colorscale=\"Viridis\")])\n",
    "\n",
    "fig.update_layout(\n",
    "    scene=dict(\n",
    "        xaxis_title=\"掩码比例\",\n",
    "        yaxis_title=\"记忆模式数量\",\n",
    "        zaxis_title=\"相对不相似度\"\n",
    "    ),\n",
    "    width=800,\n",
    "    height=600,\n",
    ")\n",
    "\n",
    "fig.show()\n"
   ]
  }
 ],
 "metadata": {
  "kernelspec": {
   "display_name": "simplebtsp",
   "language": "python",
   "name": "python3"
  },
  "language_info": {
   "codemirror_mode": {
    "name": "ipython",
    "version": 3
   },
   "file_extension": ".py",
   "mimetype": "text/x-python",
   "name": "python",
   "nbconvert_exporter": "python",
   "pygments_lexer": "ipython3",
   "version": "3.9.23"
  }
 },
 "nbformat": 4,
 "nbformat_minor": 5
}
