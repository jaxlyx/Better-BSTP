{
 "cells": [
  {
   "cell_type": "code",
   "execution_count": 1,
   "id": "934529dc",
   "metadata": {},
   "outputs": [
    {
     "name": "stdout",
     "output_type": "stream",
     "text": [
      "训练前 CA1 激活向量（部分）: [1 1 1 1 1 1 1 1 1 1 1 1 1 1 1 1 1 1 1 1 1 1 1 1 1 1 1 1 1 1 1 1 1 1 1 1 1\n",
      " 1 1 1 1 1 1 1 1 1 1 1 1 1]\n",
      "训练前 CA1 激活神经元数量: 30000\n",
      "训练后 CA1 激活向量（部分）: [1 1 1 1 1 1 1 1 1 1 1 1 1 1 1 1 1 1 1 1 1 1 1 1 1 1 1 1 1 1 1 1 1 1 1 1 1\n",
      " 1 1 1 1 1 1 1 1 1 1 1 1 1]\n",
      "训练后 CA1 激活神经元数量: 30000\n"
     ]
    }
   ],
   "source": [
    "import numpy as np\n",
    "import torch\n",
    "import plotly.graph_objects as go\n",
    "from binary_btsp_network_torch import BinaryBTSPNetworkTorch  # 你定义的类\n",
    "import os\n",
    "os.environ[\"KMP_DUPLICATE_LIB_OK\"] = \"TRUE\"\n",
    "\n",
    "net = BinaryBTSPNetworkTorch(\n",
    "    n_input=20000,\n",
    "    n_memory=30000,\n",
    "    fw=0.6,   # 连接密度\n",
    "    fq=0.0025,  # 学习翻转概率\n",
    "    fp=0.005,  # 输入模式稀疏度\n",
    "    threshold=10\n",
    ")\n",
    "\n",
    "# 生成训练模式\n",
    "patterns = net.make_sparse_patterns(n_patterns=200)\n",
    "\n",
    "# 训练前记忆\n",
    "memory_before = net.forward(patterns[1])\n",
    "print(\"训练前 CA1 激活向量（部分）:\", memory_before[:50].cpu().numpy())  # 打印前50个元素\n",
    "print(\"训练前 CA1 激活神经元数量:\", memory_before.sum().item())\n",
    "\n",
    "# 执行一次 BTSP 更新（训练）\n",
    "net.btsp_update(patterns[1])\n",
    "\n",
    "# 训练后记忆\n",
    "memory_after = net.forward(patterns[1])\n",
    "print(\"训练后 CA1 激活向量（部分）:\", memory_after[:50].cpu().numpy())\n",
    "print(\"训练后 CA1 激活神经元数量:\", memory_after.sum().item())"
   ]
  },
  {
   "cell_type": "code",
   "execution_count": 2,
   "id": "4c179c73",
   "metadata": {},
   "outputs": [
    {
     "ename": "AttributeError",
     "evalue": "'BinaryBTSPNetworkTorch' object has no attribute 'weights'",
     "output_type": "error",
     "traceback": [
      "\u001b[1;31m---------------------------------------------------------------------------\u001b[0m",
      "\u001b[1;31mAttributeError\u001b[0m                            Traceback (most recent call last)",
      "Cell \u001b[1;32mIn[2], line 8\u001b[0m\n\u001b[0;32m      3\u001b[0m \u001b[38;5;66;03m# ------------------------------\u001b[39;00m\n\u001b[0;32m      4\u001b[0m \u001b[38;5;66;03m# 计算每个 CA1 神经元的输入加和\u001b[39;00m\n\u001b[0;32m      5\u001b[0m \u001b[38;5;66;03m# ------------------------------\u001b[39;00m\n\u001b[0;32m      6\u001b[0m \u001b[38;5;66;03m# 训练前\u001b[39;00m\n\u001b[0;32m      7\u001b[0m input_pattern \u001b[38;5;241m=\u001b[39m patterns[\u001b[38;5;241m1\u001b[39m]\n\u001b[1;32m----> 8\u001b[0m ca1_input_before \u001b[38;5;241m=\u001b[39m (\u001b[43mnet\u001b[49m\u001b[38;5;241;43m.\u001b[39;49m\u001b[43mweights\u001b[49m\u001b[38;5;241m.\u001b[39mfloat() \u001b[38;5;241m*\u001b[39m input_pattern\u001b[38;5;241m.\u001b[39mfloat())\u001b[38;5;241m.\u001b[39msum(dim\u001b[38;5;241m=\u001b[39m\u001b[38;5;241m1\u001b[39m)\u001b[38;5;241m.\u001b[39mcpu()\u001b[38;5;241m.\u001b[39mnumpy()\n\u001b[0;32m     10\u001b[0m \u001b[38;5;66;03m# 训练后\u001b[39;00m\n\u001b[0;32m     11\u001b[0m net\u001b[38;5;241m.\u001b[39mbtsp_update(input_pattern)  \u001b[38;5;66;03m# 如果你还没更新\u001b[39;00m\n",
      "\u001b[1;31mAttributeError\u001b[0m: 'BinaryBTSPNetworkTorch' object has no attribute 'weights'"
     ]
    }
   ],
   "source": [
    "import matplotlib.pyplot as plt\n",
    "\n",
    "# ------------------------------\n",
    "# 计算每个 CA1 神经元的输入加和\n",
    "# ------------------------------\n",
    "# 训练前\n",
    "input_pattern = patterns[1]\n",
    "ca1_input_before = (net.weights.float() * input_pattern.float()).sum(dim=1).cpu().numpy()\n",
    "\n",
    "# 训练后\n",
    "net.btsp_update(input_pattern)  # 如果你还没更新\n",
    "ca1_input_after = (net.weights.float() * input_pattern.float()).sum(dim=1).cpu().numpy()\n",
    "\n",
    "# ------------------------------\n",
    "# 绘制直方图\n",
    "# ------------------------------\n",
    "plt.figure(figsize=(12,5))\n",
    "\n",
    "plt.subplot(1,2,1)\n",
    "plt.hist(ca1_input_before, bins=50, color='skyblue', edgecolor='black')\n",
    "plt.title(\"训练前 CA1 接收连接强度分布\")\n",
    "plt.xlabel(\"输入加和\")\n",
    "plt.ylabel(\"频率\")\n",
    "\n",
    "plt.subplot(1,2,2)\n",
    "plt.hist(ca1_input_after, bins=50, color='salmon', edgecolor='black')\n",
    "plt.title(\"训练后 CA1 接收连接强度分布\")\n",
    "plt.xlabel(\"输入加和\")\n",
    "plt.ylabel(\"频率\")\n",
    "\n",
    "plt.tight_layout()\n",
    "plt.show()\n"
   ]
  }
 ],
 "metadata": {
  "kernelspec": {
   "display_name": "simplebtsp",
   "language": "python",
   "name": "python3"
  },
  "language_info": {
   "codemirror_mode": {
    "name": "ipython",
    "version": 3
   },
   "file_extension": ".py",
   "mimetype": "text/x-python",
   "name": "python",
   "nbconvert_exporter": "python",
   "pygments_lexer": "ipython3",
   "version": "3.9.23"
  }
 },
 "nbformat": 4,
 "nbformat_minor": 5
}
