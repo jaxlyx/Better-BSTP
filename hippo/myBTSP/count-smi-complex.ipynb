{
 "cells": [
  {
   "cell_type": "code",
   "execution_count": null,
   "id": "448f330f",
   "metadata": {},
   "outputs": [
    {
     "name": "stdout",
     "output_type": "stream",
     "text": [
      "计算不同记忆规模与掩码比例下的平均归一化海明距离...\n",
      "\n"
     ]
    },
    {
     "name": "stderr",
     "output_type": "stream",
     "text": [
      "Training Patterns: 100%|██████████| 4/4 [00:00<00:00,  4.94it/s]\n",
      "Mask Ratios: 100%|██████████| 10/10 [00:06<00:00,  1.54it/s]\n",
      "Training Patterns: 100%|██████████| 8/8 [00:01<00:00,  4.88it/s]\n",
      "Mask Ratios: 100%|██████████| 10/10 [00:12<00:00,  1.30s/it]\n",
      "Training Patterns: 100%|██████████| 12/12 [00:02<00:00,  5.03it/s]\n",
      "Mask Ratios: 100%|██████████| 10/10 [00:19<00:00,  1.91s/it]\n",
      "Training Patterns: 100%|██████████| 16/16 [00:03<00:00,  5.08it/s]\n",
      "Mask Ratios: 100%|██████████| 10/10 [00:25<00:00,  2.55s/it]\n",
      "Training Patterns: 100%|██████████| 20/20 [00:03<00:00,  5.00it/s]\n",
      "Mask Ratios: 100%|██████████| 10/10 [00:31<00:00,  3.20s/it]\n",
      "Training Patterns: 100%|██████████| 24/24 [00:04<00:00,  4.96it/s]\n",
      "Mask Ratios: 100%|██████████| 10/10 [00:38<00:00,  3.83s/it]\n",
      "Training Patterns: 100%|██████████| 28/28 [00:05<00:00,  5.05it/s]\n",
      "Mask Ratios: 100%|██████████| 10/10 [00:44<00:00,  4.45s/it]\n",
      "Training Patterns: 100%|██████████| 32/32 [00:06<00:00,  5.02it/s]\n",
      "Mask Ratios: 100%|██████████| 10/10 [00:50<00:00,  5.10s/it]\n",
      "Training Patterns: 100%|██████████| 36/36 [00:07<00:00,  5.00it/s]\n",
      "Mask Ratios: 100%|██████████| 10/10 [00:57<00:00,  5.74s/it]\n",
      "Training Patterns: 100%|██████████| 40/40 [00:08<00:00,  4.97it/s]\n",
      "Mask Ratios: 100%|██████████| 10/10 [01:04<00:00,  6.41s/it]\n",
      "Training Patterns: 100%|██████████| 43/43 [00:08<00:00,  4.84it/s]\n",
      "Mask Ratios: 100%|██████████| 10/10 [01:09<00:00,  6.99s/it]\n",
      "Training Patterns: 100%|██████████| 47/47 [00:09<00:00,  4.94it/s]\n",
      "Mask Ratios: 100%|██████████| 10/10 [01:16<00:00,  7.64s/it]\n",
      "Memory sizes: 100%|██████████| 12/12 [09:22<00:00, 46.91s/it]\n"
     ]
    },
    {
     "data": {
      "application/vnd.plotly.v1+json": {
       "config": {
        "plotlyServerURL": "https://plot.ly"
       },
       "data": [
        {
         "colorscale": [
          [
           0,
           "#440154"
          ],
          [
           0.1111111111111111,
           "#482878"
          ],
          [
           0.2222222222222222,
           "#3e4989"
          ],
          [
           0.3333333333333333,
           "#31688e"
          ],
          [
           0.4444444444444444,
           "#26828e"
          ],
          [
           0.5555555555555556,
           "#1f9e89"
          ],
          [
           0.6666666666666666,
           "#35b779"
          ],
          [
           0.7777777777777778,
           "#6ece58"
          ],
          [
           0.8888888888888888,
           "#b5de2b"
          ],
          [
           1,
           "#fde725"
          ]
         ],
         "type": "surface",
         "x": {
          "bdata": "AAAAAAAAAAAcx3Ecx3G8PxzHcRzHccw/VVVVVVVV1T8cx3Ecx3HcP3Icx3Ecx+E/VVVVVVVV5T84juM4juPoPxzHcRzHcew/AAAAAAAA8D8AAAAAAAAAABzHcRzHcbw/HMdxHMdxzD9VVVVVVVXVPxzHcRzHcdw/chzHcRzH4T9VVVVVVVXlPziO4ziO4+g/HMdxHMdx7D8AAAAAAADwPwAAAAAAAAAAHMdxHMdxvD8cx3Ecx3HMP1VVVVVVVdU/HMdxHMdx3D9yHMdxHMfhP1VVVVVVVeU/OI7jOI7j6D8cx3Ecx3HsPwAAAAAAAPA/AAAAAAAAAAAcx3Ecx3G8PxzHcRzHccw/VVVVVVVV1T8cx3Ecx3HcP3Icx3Ecx+E/VVVVVVVV5T84juM4juPoPxzHcRzHcew/AAAAAAAA8D8AAAAAAAAAABzHcRzHcbw/HMdxHMdxzD9VVVVVVVXVPxzHcRzHcdw/chzHcRzH4T9VVVVVVVXlPziO4ziO4+g/HMdxHMdx7D8AAAAAAADwPwAAAAAAAAAAHMdxHMdxvD8cx3Ecx3HMP1VVVVVVVdU/HMdxHMdx3D9yHMdxHMfhP1VVVVVVVeU/OI7jOI7j6D8cx3Ecx3HsPwAAAAAAAPA/AAAAAAAAAAAcx3Ecx3G8PxzHcRzHccw/VVVVVVVV1T8cx3Ecx3HcP3Icx3Ecx+E/VVVVVVVV5T84juM4juPoPxzHcRzHcew/AAAAAAAA8D8AAAAAAAAAABzHcRzHcbw/HMdxHMdxzD9VVVVVVVXVPxzHcRzHcdw/chzHcRzH4T9VVVVVVVXlPziO4ziO4+g/HMdxHMdx7D8AAAAAAADwPwAAAAAAAAAAHMdxHMdxvD8cx3Ecx3HMP1VVVVVVVdU/HMdxHMdx3D9yHMdxHMfhP1VVVVVVVeU/OI7jOI7j6D8cx3Ecx3HsPwAAAAAAAPA/AAAAAAAAAAAcx3Ecx3G8PxzHcRzHccw/VVVVVVVV1T8cx3Ecx3HcP3Icx3Ecx+E/VVVVVVVV5T84juM4juPoPxzHcRzHcew/AAAAAAAA8D8AAAAAAAAAABzHcRzHcbw/HMdxHMdxzD9VVVVVVVXVPxzHcRzHcdw/chzHcRzH4T9VVVVVVVXlPziO4ziO4+g/HMdxHMdx7D8AAAAAAADwPwAAAAAAAAAAHMdxHMdxvD8cx3Ecx3HMP1VVVVVVVdU/HMdxHMdx3D9yHMdxHMfhP1VVVVVVVeU/OI7jOI7j6D8cx3Ecx3HsPwAAAAAAAPA/",
          "dtype": "f8",
          "shape": "12, 10"
         },
         "y": {
          "bdata": "6APoA+gD6APoA+gD6APoA+gD6APQB9AH0AfQB9AH0AfQB9AH0AfQB7gLuAu4C7gLuAu4C7gLuAu4C7gLoA+gD6APoA+gD6APoA+gD6APoA+IE4gTiBOIE4gTiBOIE4gTiBOIE3AXcBdwF3AXcBdwF3AXcBdwF3AXWBtYG1gbWBtYG1gbWBtYG1gbWBtAH0AfQB9AH0AfQB9AH0AfQB9AHygjKCMoIygjKCMoIygjKCMoIygjECcQJxAnECcQJxAnECcQJxAnECf4Kvgq+Cr4Kvgq+Cr4Kvgq+Cr4KuAu4C7gLuAu4C7gLuAu4C7gLuAu",
          "dtype": "i2",
          "shape": "12, 10"
         },
         "z": {
          "bdata": "AAAAAAAAAAAAAAAgUF+dPwAAAKB+kbY/AAAA4BRZyj8AAADg9DvZPwAAAAA+i+Q/AAAAAHiZ6z8AAADgK1LvPwAAAGBS/e8/AAAAAAAA8D8AAAAAAAAAAAAAAACRW5s/AAAA4CcKtj8AAADgkd3JPwAAAOC2Fdk/AAAAoFiA5D8AAACg5pbrPwAAAEDOTu8/AAAAQCL97z8AAAAAAADwPwAAAAAAAAAAAAAAgE6kmz8AAABA2Fq2PwAAAIBeIso/AAAAYPo82T8AAABAcI/kPwAAAIDzo+s/AAAAoPRS7z8AAAAA9vzvPwAAAAAAAPA/AAAAAAAAAAAAAABA8OOcPwAAACAukLY/AAAAYKMVyj8AAACAsk3ZPwAAAOD3eeQ/AAAAgGSj6z8AAADg+FDvPwAAAGAH/e8/AAAAAAAA8D8AAAAAAAAAAAAAAEBo4Z8/AAAAwC7qtz8AAABA0SHLPwAAAIDuvNk/AAAAYPuj5D8AAACAyrTrPwAAAKAPVe8/AAAAYB/97z8AAADg///vPwAAAAAAAAAAAAAAANuToz8AAAAgo2C6PwAAAMCkYsw/AAAAQKsx2j8AAADAfN3kPwAAAKBPyus/AAAAQOVY7z8AAADgI/3vPwAAAOD//+8/AAAAAAAAAAAAAABAlN2qPwAAAABli78/AAAAwFWZzj8AAAAA4RLbPwAAAGCoCOU/AAAAIMnQ6z8AAADAKFnvPwAAAKBs/e8/AAAAwP//7z8AAAAAAAAAAAAAAEB/urI/AAAAANqUwz8AAACgo1bRPwAAAOBRytw/AAAA4NqN5T8AAAAACQ/sPwAAAKCZYO8/AAAAIGv97z8AAADA///vPwAAAAAAAAAAAAAA4KICvD8AAACAKkLKPwAAACD7q9Q/AAAAgK1p3z8AAABg6lPmPwAAAICEUew/AAAAgIZs7z8AAACgn/3vPwAAAOD//+8/AAAAAAAAAAAAAABAnhLDPwAAAIAF1NA/AAAAoPmD2D8AAAAgLEDhPwAAAKBaUec/AAAAQKG67D8AAABgM33vPwAAAGC4/e8/AAAAAAAA8D8AAAAAAAAAAAAAAGDPVck/AAAA4G5q1T8AAAAgQVHdPwAAAKBGM+M/AAAAIBGF6D8AAACANi/tPwAAAOCtj+8/AAAA4EP+7z8AAAAgAADwPwAAAAAAAAAAAAAAQB8O0D8AAADg/nPaPwAAAKAFQOE/AAAAIHJS5T8AAADgBMbpPwAAAOB4qu0/AAAAYLai7z8AAADAcv7vPwAAACAAAPA/",
          "dtype": "f8",
          "shape": "12, 10"
         }
        }
       ],
       "layout": {
        "height": 600,
        "scene": {
         "xaxis": {
          "title": {
           "text": "掩码比例"
          }
         },
         "yaxis": {
          "title": {
           "text": "记忆模式数量"
          }
         },
         "zaxis": {
          "title": {
           "text": "平均归一化海明距离"
          }
         }
        },
        "template": {
         "data": {
          "bar": [
           {
            "error_x": {
             "color": "#2a3f5f"
            },
            "error_y": {
             "color": "#2a3f5f"
            },
            "marker": {
             "line": {
              "color": "#E5ECF6",
              "width": 0.5
             },
             "pattern": {
              "fillmode": "overlay",
              "size": 10,
              "solidity": 0.2
             }
            },
            "type": "bar"
           }
          ],
          "barpolar": [
           {
            "marker": {
             "line": {
              "color": "#E5ECF6",
              "width": 0.5
             },
             "pattern": {
              "fillmode": "overlay",
              "size": 10,
              "solidity": 0.2
             }
            },
            "type": "barpolar"
           }
          ],
          "carpet": [
           {
            "aaxis": {
             "endlinecolor": "#2a3f5f",
             "gridcolor": "white",
             "linecolor": "white",
             "minorgridcolor": "white",
             "startlinecolor": "#2a3f5f"
            },
            "baxis": {
             "endlinecolor": "#2a3f5f",
             "gridcolor": "white",
             "linecolor": "white",
             "minorgridcolor": "white",
             "startlinecolor": "#2a3f5f"
            },
            "type": "carpet"
           }
          ],
          "choropleth": [
           {
            "colorbar": {
             "outlinewidth": 0,
             "ticks": ""
            },
            "type": "choropleth"
           }
          ],
          "contour": [
           {
            "colorbar": {
             "outlinewidth": 0,
             "ticks": ""
            },
            "colorscale": [
             [
              0,
              "#0d0887"
             ],
             [
              0.1111111111111111,
              "#46039f"
             ],
             [
              0.2222222222222222,
              "#7201a8"
             ],
             [
              0.3333333333333333,
              "#9c179e"
             ],
             [
              0.4444444444444444,
              "#bd3786"
             ],
             [
              0.5555555555555556,
              "#d8576b"
             ],
             [
              0.6666666666666666,
              "#ed7953"
             ],
             [
              0.7777777777777778,
              "#fb9f3a"
             ],
             [
              0.8888888888888888,
              "#fdca26"
             ],
             [
              1,
              "#f0f921"
             ]
            ],
            "type": "contour"
           }
          ],
          "contourcarpet": [
           {
            "colorbar": {
             "outlinewidth": 0,
             "ticks": ""
            },
            "type": "contourcarpet"
           }
          ],
          "heatmap": [
           {
            "colorbar": {
             "outlinewidth": 0,
             "ticks": ""
            },
            "colorscale": [
             [
              0,
              "#0d0887"
             ],
             [
              0.1111111111111111,
              "#46039f"
             ],
             [
              0.2222222222222222,
              "#7201a8"
             ],
             [
              0.3333333333333333,
              "#9c179e"
             ],
             [
              0.4444444444444444,
              "#bd3786"
             ],
             [
              0.5555555555555556,
              "#d8576b"
             ],
             [
              0.6666666666666666,
              "#ed7953"
             ],
             [
              0.7777777777777778,
              "#fb9f3a"
             ],
             [
              0.8888888888888888,
              "#fdca26"
             ],
             [
              1,
              "#f0f921"
             ]
            ],
            "type": "heatmap"
           }
          ],
          "histogram": [
           {
            "marker": {
             "pattern": {
              "fillmode": "overlay",
              "size": 10,
              "solidity": 0.2
             }
            },
            "type": "histogram"
           }
          ],
          "histogram2d": [
           {
            "colorbar": {
             "outlinewidth": 0,
             "ticks": ""
            },
            "colorscale": [
             [
              0,
              "#0d0887"
             ],
             [
              0.1111111111111111,
              "#46039f"
             ],
             [
              0.2222222222222222,
              "#7201a8"
             ],
             [
              0.3333333333333333,
              "#9c179e"
             ],
             [
              0.4444444444444444,
              "#bd3786"
             ],
             [
              0.5555555555555556,
              "#d8576b"
             ],
             [
              0.6666666666666666,
              "#ed7953"
             ],
             [
              0.7777777777777778,
              "#fb9f3a"
             ],
             [
              0.8888888888888888,
              "#fdca26"
             ],
             [
              1,
              "#f0f921"
             ]
            ],
            "type": "histogram2d"
           }
          ],
          "histogram2dcontour": [
           {
            "colorbar": {
             "outlinewidth": 0,
             "ticks": ""
            },
            "colorscale": [
             [
              0,
              "#0d0887"
             ],
             [
              0.1111111111111111,
              "#46039f"
             ],
             [
              0.2222222222222222,
              "#7201a8"
             ],
             [
              0.3333333333333333,
              "#9c179e"
             ],
             [
              0.4444444444444444,
              "#bd3786"
             ],
             [
              0.5555555555555556,
              "#d8576b"
             ],
             [
              0.6666666666666666,
              "#ed7953"
             ],
             [
              0.7777777777777778,
              "#fb9f3a"
             ],
             [
              0.8888888888888888,
              "#fdca26"
             ],
             [
              1,
              "#f0f921"
             ]
            ],
            "type": "histogram2dcontour"
           }
          ],
          "mesh3d": [
           {
            "colorbar": {
             "outlinewidth": 0,
             "ticks": ""
            },
            "type": "mesh3d"
           }
          ],
          "parcoords": [
           {
            "line": {
             "colorbar": {
              "outlinewidth": 0,
              "ticks": ""
             }
            },
            "type": "parcoords"
           }
          ],
          "pie": [
           {
            "automargin": true,
            "type": "pie"
           }
          ],
          "scatter": [
           {
            "fillpattern": {
             "fillmode": "overlay",
             "size": 10,
             "solidity": 0.2
            },
            "type": "scatter"
           }
          ],
          "scatter3d": [
           {
            "line": {
             "colorbar": {
              "outlinewidth": 0,
              "ticks": ""
             }
            },
            "marker": {
             "colorbar": {
              "outlinewidth": 0,
              "ticks": ""
             }
            },
            "type": "scatter3d"
           }
          ],
          "scattercarpet": [
           {
            "marker": {
             "colorbar": {
              "outlinewidth": 0,
              "ticks": ""
             }
            },
            "type": "scattercarpet"
           }
          ],
          "scattergeo": [
           {
            "marker": {
             "colorbar": {
              "outlinewidth": 0,
              "ticks": ""
             }
            },
            "type": "scattergeo"
           }
          ],
          "scattergl": [
           {
            "marker": {
             "colorbar": {
              "outlinewidth": 0,
              "ticks": ""
             }
            },
            "type": "scattergl"
           }
          ],
          "scattermap": [
           {
            "marker": {
             "colorbar": {
              "outlinewidth": 0,
              "ticks": ""
             }
            },
            "type": "scattermap"
           }
          ],
          "scattermapbox": [
           {
            "marker": {
             "colorbar": {
              "outlinewidth": 0,
              "ticks": ""
             }
            },
            "type": "scattermapbox"
           }
          ],
          "scatterpolar": [
           {
            "marker": {
             "colorbar": {
              "outlinewidth": 0,
              "ticks": ""
             }
            },
            "type": "scatterpolar"
           }
          ],
          "scatterpolargl": [
           {
            "marker": {
             "colorbar": {
              "outlinewidth": 0,
              "ticks": ""
             }
            },
            "type": "scatterpolargl"
           }
          ],
          "scatterternary": [
           {
            "marker": {
             "colorbar": {
              "outlinewidth": 0,
              "ticks": ""
             }
            },
            "type": "scatterternary"
           }
          ],
          "surface": [
           {
            "colorbar": {
             "outlinewidth": 0,
             "ticks": ""
            },
            "colorscale": [
             [
              0,
              "#0d0887"
             ],
             [
              0.1111111111111111,
              "#46039f"
             ],
             [
              0.2222222222222222,
              "#7201a8"
             ],
             [
              0.3333333333333333,
              "#9c179e"
             ],
             [
              0.4444444444444444,
              "#bd3786"
             ],
             [
              0.5555555555555556,
              "#d8576b"
             ],
             [
              0.6666666666666666,
              "#ed7953"
             ],
             [
              0.7777777777777778,
              "#fb9f3a"
             ],
             [
              0.8888888888888888,
              "#fdca26"
             ],
             [
              1,
              "#f0f921"
             ]
            ],
            "type": "surface"
           }
          ],
          "table": [
           {
            "cells": {
             "fill": {
              "color": "#EBF0F8"
             },
             "line": {
              "color": "white"
             }
            },
            "header": {
             "fill": {
              "color": "#C8D4E3"
             },
             "line": {
              "color": "white"
             }
            },
            "type": "table"
           }
          ]
         },
         "layout": {
          "annotationdefaults": {
           "arrowcolor": "#2a3f5f",
           "arrowhead": 0,
           "arrowwidth": 1
          },
          "autotypenumbers": "strict",
          "coloraxis": {
           "colorbar": {
            "outlinewidth": 0,
            "ticks": ""
           }
          },
          "colorscale": {
           "diverging": [
            [
             0,
             "#8e0152"
            ],
            [
             0.1,
             "#c51b7d"
            ],
            [
             0.2,
             "#de77ae"
            ],
            [
             0.3,
             "#f1b6da"
            ],
            [
             0.4,
             "#fde0ef"
            ],
            [
             0.5,
             "#f7f7f7"
            ],
            [
             0.6,
             "#e6f5d0"
            ],
            [
             0.7,
             "#b8e186"
            ],
            [
             0.8,
             "#7fbc41"
            ],
            [
             0.9,
             "#4d9221"
            ],
            [
             1,
             "#276419"
            ]
           ],
           "sequential": [
            [
             0,
             "#0d0887"
            ],
            [
             0.1111111111111111,
             "#46039f"
            ],
            [
             0.2222222222222222,
             "#7201a8"
            ],
            [
             0.3333333333333333,
             "#9c179e"
            ],
            [
             0.4444444444444444,
             "#bd3786"
            ],
            [
             0.5555555555555556,
             "#d8576b"
            ],
            [
             0.6666666666666666,
             "#ed7953"
            ],
            [
             0.7777777777777778,
             "#fb9f3a"
            ],
            [
             0.8888888888888888,
             "#fdca26"
            ],
            [
             1,
             "#f0f921"
            ]
           ],
           "sequentialminus": [
            [
             0,
             "#0d0887"
            ],
            [
             0.1111111111111111,
             "#46039f"
            ],
            [
             0.2222222222222222,
             "#7201a8"
            ],
            [
             0.3333333333333333,
             "#9c179e"
            ],
            [
             0.4444444444444444,
             "#bd3786"
            ],
            [
             0.5555555555555556,
             "#d8576b"
            ],
            [
             0.6666666666666666,
             "#ed7953"
            ],
            [
             0.7777777777777778,
             "#fb9f3a"
            ],
            [
             0.8888888888888888,
             "#fdca26"
            ],
            [
             1,
             "#f0f921"
            ]
           ]
          },
          "colorway": [
           "#636efa",
           "#EF553B",
           "#00cc96",
           "#ab63fa",
           "#FFA15A",
           "#19d3f3",
           "#FF6692",
           "#B6E880",
           "#FF97FF",
           "#FECB52"
          ],
          "font": {
           "color": "#2a3f5f"
          },
          "geo": {
           "bgcolor": "white",
           "lakecolor": "white",
           "landcolor": "#E5ECF6",
           "showlakes": true,
           "showland": true,
           "subunitcolor": "white"
          },
          "hoverlabel": {
           "align": "left"
          },
          "hovermode": "closest",
          "mapbox": {
           "style": "light"
          },
          "paper_bgcolor": "white",
          "plot_bgcolor": "#E5ECF6",
          "polar": {
           "angularaxis": {
            "gridcolor": "white",
            "linecolor": "white",
            "ticks": ""
           },
           "bgcolor": "#E5ECF6",
           "radialaxis": {
            "gridcolor": "white",
            "linecolor": "white",
            "ticks": ""
           }
          },
          "scene": {
           "xaxis": {
            "backgroundcolor": "#E5ECF6",
            "gridcolor": "white",
            "gridwidth": 2,
            "linecolor": "white",
            "showbackground": true,
            "ticks": "",
            "zerolinecolor": "white"
           },
           "yaxis": {
            "backgroundcolor": "#E5ECF6",
            "gridcolor": "white",
            "gridwidth": 2,
            "linecolor": "white",
            "showbackground": true,
            "ticks": "",
            "zerolinecolor": "white"
           },
           "zaxis": {
            "backgroundcolor": "#E5ECF6",
            "gridcolor": "white",
            "gridwidth": 2,
            "linecolor": "white",
            "showbackground": true,
            "ticks": "",
            "zerolinecolor": "white"
           }
          },
          "shapedefaults": {
           "line": {
            "color": "#2a3f5f"
           }
          },
          "ternary": {
           "aaxis": {
            "gridcolor": "white",
            "linecolor": "white",
            "ticks": ""
           },
           "baxis": {
            "gridcolor": "white",
            "linecolor": "white",
            "ticks": ""
           },
           "bgcolor": "#E5ECF6",
           "caxis": {
            "gridcolor": "white",
            "linecolor": "white",
            "ticks": ""
           }
          },
          "title": {
           "x": 0.05
          },
          "xaxis": {
           "automargin": true,
           "gridcolor": "white",
           "linecolor": "white",
           "ticks": "",
           "title": {
            "standoff": 15
           },
           "zerolinecolor": "white",
           "zerolinewidth": 2
          },
          "yaxis": {
           "automargin": true,
           "gridcolor": "white",
           "linecolor": "white",
           "ticks": "",
           "title": {
            "standoff": 15
           },
           "zerolinecolor": "white",
           "zerolinewidth": 2
          }
         }
        },
        "title": {
         "text": "不同记忆规模与掩码比例下的记忆保留效果"
        },
        "width": 800
       }
      }
     },
     "metadata": {},
     "output_type": "display_data"
    }
   ],
   "source": [
    "import torch\n",
    "import numpy as np\n",
    "import matplotlib.pyplot as plt\n",
    "from tqdm import tqdm\n",
    "import plotly.graph_objects as go\n",
    "\n",
    "from binary_btsp_network_torch import BinaryBTSPNetworkTorch\n",
    "import os\n",
    "os.environ[\"KMP_DUPLICATE_LIB_OK\"] = \"TRUE\"\n",
    "\n",
    "# ---------------- 参数设置 ----------------\n",
    "n_input = 10000       # CA3 神经元数量\n",
    "n_memory = 15000       # CA1 神经元数量\n",
    "fq = 0.0025             # BTSP 更新概率\n",
    "fp = 0.005             # 输入稀疏度\n",
    "fw = 0.6           # 连接稀疏度\n",
    "batch_size = 256\n",
    "n_repeats = 10\n",
    "device = \"cuda\" if torch.cuda.is_available() else \"cpu\"\n",
    "\n",
    "# 记忆规模与掩码比例\n",
    "memory_sizes = np.arange(1000,13000,1000)\n",
    "mask_ratios = np.linspace(0, 1.0, 10)\n",
    "\n",
    "# 结果矩阵 (行: 记忆规模, 列: 掩码比例)\n",
    "results = np.zeros((len(memory_sizes), len(mask_ratios)))\n",
    "\n",
    "print(\"计算不同记忆规模与掩码比例下的平均归一化海明距离...\\n\")\n",
    "\n",
    "# ---------------- 主循环 ----------------\n",
    "for i, n_pat in enumerate(tqdm(memory_sizes, desc=\"Memory sizes\")):\n",
    "    # 构建网络\n",
    "    net = BinaryBTSPNetworkTorch(\n",
    "        n_input=n_input,\n",
    "        n_memory=n_memory,\n",
    "        fq=fq,\n",
    "        fp=fp,\n",
    "        fw=fw,\n",
    "        device=device,\n",
    "        threshold=8\n",
    "    )\n",
    "\n",
    "    # 生成输入模式\n",
    "    patterns = net.make_sparse_patterns(n_pat)\n",
    "\n",
    "    # 训练网络\n",
    "    net.train_patterns(patterns, batch_size=batch_size)\n",
    "\n",
    "    # 评估记忆保留效果\n",
    "    mean_rel_diss = net.compute_relative_dissimilarity_vectorized(\n",
    "        patterns=patterns,\n",
    "        mask_ratios=mask_ratios,\n",
    "        n_repeats=n_repeats,\n",
    "        batch_size=batch_size,\n",
    "    )\n",
    "\n",
    "    results[i, :] = mean_rel_diss\n"
   ]
  },
  {
   "cell_type": "code",
   "execution_count": 3,
   "id": "620f9867",
   "metadata": {},
   "outputs": [
    {
     "data": {
      "application/vnd.plotly.v1+json": {
       "config": {
        "plotlyServerURL": "https://plot.ly"
       },
       "data": [
        {
         "colorscale": [
          [
           0,
           "#440154"
          ],
          [
           0.1111111111111111,
           "#482878"
          ],
          [
           0.2222222222222222,
           "#3e4989"
          ],
          [
           0.3333333333333333,
           "#31688e"
          ],
          [
           0.4444444444444444,
           "#26828e"
          ],
          [
           0.5555555555555556,
           "#1f9e89"
          ],
          [
           0.6666666666666666,
           "#35b779"
          ],
          [
           0.7777777777777778,
           "#6ece58"
          ],
          [
           0.8888888888888888,
           "#b5de2b"
          ],
          [
           1,
           "#fde725"
          ]
         ],
         "type": "surface",
         "x": {
          "bdata": "AAAAAAAAAAAcx3Ecx3G8PxzHcRzHccw/VVVVVVVV1T8cx3Ecx3HcP3Icx3Ecx+E/VVVVVVVV5T84juM4juPoPxzHcRzHcew/AAAAAAAA8D8AAAAAAAAAABzHcRzHcbw/HMdxHMdxzD9VVVVVVVXVPxzHcRzHcdw/chzHcRzH4T9VVVVVVVXlPziO4ziO4+g/HMdxHMdx7D8AAAAAAADwPwAAAAAAAAAAHMdxHMdxvD8cx3Ecx3HMP1VVVVVVVdU/HMdxHMdx3D9yHMdxHMfhP1VVVVVVVeU/OI7jOI7j6D8cx3Ecx3HsPwAAAAAAAPA/AAAAAAAAAAAcx3Ecx3G8PxzHcRzHccw/VVVVVVVV1T8cx3Ecx3HcP3Icx3Ecx+E/VVVVVVVV5T84juM4juPoPxzHcRzHcew/AAAAAAAA8D8AAAAAAAAAABzHcRzHcbw/HMdxHMdxzD9VVVVVVVXVPxzHcRzHcdw/chzHcRzH4T9VVVVVVVXlPziO4ziO4+g/HMdxHMdx7D8AAAAAAADwPwAAAAAAAAAAHMdxHMdxvD8cx3Ecx3HMP1VVVVVVVdU/HMdxHMdx3D9yHMdxHMfhP1VVVVVVVeU/OI7jOI7j6D8cx3Ecx3HsPwAAAAAAAPA/AAAAAAAAAAAcx3Ecx3G8PxzHcRzHccw/VVVVVVVV1T8cx3Ecx3HcP3Icx3Ecx+E/VVVVVVVV5T84juM4juPoPxzHcRzHcew/AAAAAAAA8D8AAAAAAAAAABzHcRzHcbw/HMdxHMdxzD9VVVVVVVXVPxzHcRzHcdw/chzHcRzH4T9VVVVVVVXlPziO4ziO4+g/HMdxHMdx7D8AAAAAAADwPwAAAAAAAAAAHMdxHMdxvD8cx3Ecx3HMP1VVVVVVVdU/HMdxHMdx3D9yHMdxHMfhP1VVVVVVVeU/OI7jOI7j6D8cx3Ecx3HsPwAAAAAAAPA/AAAAAAAAAAAcx3Ecx3G8PxzHcRzHccw/VVVVVVVV1T8cx3Ecx3HcP3Icx3Ecx+E/VVVVVVVV5T84juM4juPoPxzHcRzHcew/AAAAAAAA8D8AAAAAAAAAABzHcRzHcbw/HMdxHMdxzD9VVVVVVVXVPxzHcRzHcdw/chzHcRzH4T9VVVVVVVXlPziO4ziO4+g/HMdxHMdx7D8AAAAAAADwPwAAAAAAAAAAHMdxHMdxvD8cx3Ecx3HMP1VVVVVVVdU/HMdxHMdx3D9yHMdxHMfhP1VVVVVVVeU/OI7jOI7j6D8cx3Ecx3HsPwAAAAAAAPA/",
          "dtype": "f8",
          "shape": "12, 10"
         },
         "y": {
          "bdata": "6APoA+gD6APoA+gD6APoA+gD6APQB9AH0AfQB9AH0AfQB9AH0AfQB7gLuAu4C7gLuAu4C7gLuAu4C7gLoA+gD6APoA+gD6APoA+gD6APoA+IE4gTiBOIE4gTiBOIE4gTiBOIE3AXcBdwF3AXcBdwF3AXcBdwF3AXWBtYG1gbWBtYG1gbWBtYG1gbWBtAH0AfQB9AH0AfQB9AH0AfQB9AHygjKCMoIygjKCMoIygjKCMoIygjECcQJxAnECcQJxAnECcQJxAnECf4Kvgq+Cr4Kvgq+Cr4Kvgq+Cr4KuAu4C7gLuAu4C7gLuAu4C7gLuAu",
          "dtype": "i2",
          "shape": "12, 10"
         },
         "z": {
          "bdata": "AAAAAAAAAAAAAAAgUF+dPwAAAKB+kbY/AAAA4BRZyj8AAADg9DvZPwAAAAA+i+Q/AAAAAHiZ6z8AAADgK1LvPwAAAGBS/e8/AAAAAAAA8D8AAAAAAAAAAAAAAACRW5s/AAAA4CcKtj8AAADgkd3JPwAAAOC2Fdk/AAAAoFiA5D8AAACg5pbrPwAAAEDOTu8/AAAAQCL97z8AAAAAAADwPwAAAAAAAAAAAAAAgE6kmz8AAABA2Fq2PwAAAIBeIso/AAAAYPo82T8AAABAcI/kPwAAAIDzo+s/AAAAoPRS7z8AAAAA9vzvPwAAAAAAAPA/AAAAAAAAAAAAAABA8OOcPwAAACAukLY/AAAAYKMVyj8AAACAsk3ZPwAAAOD3eeQ/AAAAgGSj6z8AAADg+FDvPwAAAGAH/e8/AAAAAAAA8D8AAAAAAAAAAAAAAEBo4Z8/AAAAwC7qtz8AAABA0SHLPwAAAIDuvNk/AAAAYPuj5D8AAACAyrTrPwAAAKAPVe8/AAAAYB/97z8AAADg///vPwAAAAAAAAAAAAAAANuToz8AAAAgo2C6PwAAAMCkYsw/AAAAQKsx2j8AAADAfN3kPwAAAKBPyus/AAAAQOVY7z8AAADgI/3vPwAAAOD//+8/AAAAAAAAAAAAAABAlN2qPwAAAABli78/AAAAwFWZzj8AAAAA4RLbPwAAAGCoCOU/AAAAIMnQ6z8AAADAKFnvPwAAAKBs/e8/AAAAwP//7z8AAAAAAAAAAAAAAEB/urI/AAAAANqUwz8AAACgo1bRPwAAAOBRytw/AAAA4NqN5T8AAAAACQ/sPwAAAKCZYO8/AAAAIGv97z8AAADA///vPwAAAAAAAAAAAAAA4KICvD8AAACAKkLKPwAAACD7q9Q/AAAAgK1p3z8AAABg6lPmPwAAAICEUew/AAAAgIZs7z8AAACgn/3vPwAAAOD//+8/AAAAAAAAAAAAAABAnhLDPwAAAIAF1NA/AAAAoPmD2D8AAAAgLEDhPwAAAKBaUec/AAAAQKG67D8AAABgM33vPwAAAGC4/e8/AAAAAAAA8D8AAAAAAAAAAAAAAGDPVck/AAAA4G5q1T8AAAAgQVHdPwAAAKBGM+M/AAAAIBGF6D8AAACANi/tPwAAAOCtj+8/AAAA4EP+7z8AAAAgAADwPwAAAAAAAAAAAAAAQB8O0D8AAADg/nPaPwAAAKAFQOE/AAAAIHJS5T8AAADgBMbpPwAAAOB4qu0/AAAAYLai7z8AAADAcv7vPwAAACAAAPA/",
          "dtype": "f8",
          "shape": "12, 10"
         }
        }
       ],
       "layout": {
        "height": 600,
        "scene": {
         "xaxis": {
          "title": {
           "text": "掩码比例"
          }
         },
         "yaxis": {
          "title": {
           "text": "记忆模式数量"
          }
         },
         "zaxis": {
          "range": [
           0,
           2
          ],
          "title": {
           "text": "平均归一化海明距离"
          }
         }
        },
        "template": {
         "data": {
          "bar": [
           {
            "error_x": {
             "color": "#2a3f5f"
            },
            "error_y": {
             "color": "#2a3f5f"
            },
            "marker": {
             "line": {
              "color": "#E5ECF6",
              "width": 0.5
             },
             "pattern": {
              "fillmode": "overlay",
              "size": 10,
              "solidity": 0.2
             }
            },
            "type": "bar"
           }
          ],
          "barpolar": [
           {
            "marker": {
             "line": {
              "color": "#E5ECF6",
              "width": 0.5
             },
             "pattern": {
              "fillmode": "overlay",
              "size": 10,
              "solidity": 0.2
             }
            },
            "type": "barpolar"
           }
          ],
          "carpet": [
           {
            "aaxis": {
             "endlinecolor": "#2a3f5f",
             "gridcolor": "white",
             "linecolor": "white",
             "minorgridcolor": "white",
             "startlinecolor": "#2a3f5f"
            },
            "baxis": {
             "endlinecolor": "#2a3f5f",
             "gridcolor": "white",
             "linecolor": "white",
             "minorgridcolor": "white",
             "startlinecolor": "#2a3f5f"
            },
            "type": "carpet"
           }
          ],
          "choropleth": [
           {
            "colorbar": {
             "outlinewidth": 0,
             "ticks": ""
            },
            "type": "choropleth"
           }
          ],
          "contour": [
           {
            "colorbar": {
             "outlinewidth": 0,
             "ticks": ""
            },
            "colorscale": [
             [
              0,
              "#0d0887"
             ],
             [
              0.1111111111111111,
              "#46039f"
             ],
             [
              0.2222222222222222,
              "#7201a8"
             ],
             [
              0.3333333333333333,
              "#9c179e"
             ],
             [
              0.4444444444444444,
              "#bd3786"
             ],
             [
              0.5555555555555556,
              "#d8576b"
             ],
             [
              0.6666666666666666,
              "#ed7953"
             ],
             [
              0.7777777777777778,
              "#fb9f3a"
             ],
             [
              0.8888888888888888,
              "#fdca26"
             ],
             [
              1,
              "#f0f921"
             ]
            ],
            "type": "contour"
           }
          ],
          "contourcarpet": [
           {
            "colorbar": {
             "outlinewidth": 0,
             "ticks": ""
            },
            "type": "contourcarpet"
           }
          ],
          "heatmap": [
           {
            "colorbar": {
             "outlinewidth": 0,
             "ticks": ""
            },
            "colorscale": [
             [
              0,
              "#0d0887"
             ],
             [
              0.1111111111111111,
              "#46039f"
             ],
             [
              0.2222222222222222,
              "#7201a8"
             ],
             [
              0.3333333333333333,
              "#9c179e"
             ],
             [
              0.4444444444444444,
              "#bd3786"
             ],
             [
              0.5555555555555556,
              "#d8576b"
             ],
             [
              0.6666666666666666,
              "#ed7953"
             ],
             [
              0.7777777777777778,
              "#fb9f3a"
             ],
             [
              0.8888888888888888,
              "#fdca26"
             ],
             [
              1,
              "#f0f921"
             ]
            ],
            "type": "heatmap"
           }
          ],
          "histogram": [
           {
            "marker": {
             "pattern": {
              "fillmode": "overlay",
              "size": 10,
              "solidity": 0.2
             }
            },
            "type": "histogram"
           }
          ],
          "histogram2d": [
           {
            "colorbar": {
             "outlinewidth": 0,
             "ticks": ""
            },
            "colorscale": [
             [
              0,
              "#0d0887"
             ],
             [
              0.1111111111111111,
              "#46039f"
             ],
             [
              0.2222222222222222,
              "#7201a8"
             ],
             [
              0.3333333333333333,
              "#9c179e"
             ],
             [
              0.4444444444444444,
              "#bd3786"
             ],
             [
              0.5555555555555556,
              "#d8576b"
             ],
             [
              0.6666666666666666,
              "#ed7953"
             ],
             [
              0.7777777777777778,
              "#fb9f3a"
             ],
             [
              0.8888888888888888,
              "#fdca26"
             ],
             [
              1,
              "#f0f921"
             ]
            ],
            "type": "histogram2d"
           }
          ],
          "histogram2dcontour": [
           {
            "colorbar": {
             "outlinewidth": 0,
             "ticks": ""
            },
            "colorscale": [
             [
              0,
              "#0d0887"
             ],
             [
              0.1111111111111111,
              "#46039f"
             ],
             [
              0.2222222222222222,
              "#7201a8"
             ],
             [
              0.3333333333333333,
              "#9c179e"
             ],
             [
              0.4444444444444444,
              "#bd3786"
             ],
             [
              0.5555555555555556,
              "#d8576b"
             ],
             [
              0.6666666666666666,
              "#ed7953"
             ],
             [
              0.7777777777777778,
              "#fb9f3a"
             ],
             [
              0.8888888888888888,
              "#fdca26"
             ],
             [
              1,
              "#f0f921"
             ]
            ],
            "type": "histogram2dcontour"
           }
          ],
          "mesh3d": [
           {
            "colorbar": {
             "outlinewidth": 0,
             "ticks": ""
            },
            "type": "mesh3d"
           }
          ],
          "parcoords": [
           {
            "line": {
             "colorbar": {
              "outlinewidth": 0,
              "ticks": ""
             }
            },
            "type": "parcoords"
           }
          ],
          "pie": [
           {
            "automargin": true,
            "type": "pie"
           }
          ],
          "scatter": [
           {
            "fillpattern": {
             "fillmode": "overlay",
             "size": 10,
             "solidity": 0.2
            },
            "type": "scatter"
           }
          ],
          "scatter3d": [
           {
            "line": {
             "colorbar": {
              "outlinewidth": 0,
              "ticks": ""
             }
            },
            "marker": {
             "colorbar": {
              "outlinewidth": 0,
              "ticks": ""
             }
            },
            "type": "scatter3d"
           }
          ],
          "scattercarpet": [
           {
            "marker": {
             "colorbar": {
              "outlinewidth": 0,
              "ticks": ""
             }
            },
            "type": "scattercarpet"
           }
          ],
          "scattergeo": [
           {
            "marker": {
             "colorbar": {
              "outlinewidth": 0,
              "ticks": ""
             }
            },
            "type": "scattergeo"
           }
          ],
          "scattergl": [
           {
            "marker": {
             "colorbar": {
              "outlinewidth": 0,
              "ticks": ""
             }
            },
            "type": "scattergl"
           }
          ],
          "scattermap": [
           {
            "marker": {
             "colorbar": {
              "outlinewidth": 0,
              "ticks": ""
             }
            },
            "type": "scattermap"
           }
          ],
          "scattermapbox": [
           {
            "marker": {
             "colorbar": {
              "outlinewidth": 0,
              "ticks": ""
             }
            },
            "type": "scattermapbox"
           }
          ],
          "scatterpolar": [
           {
            "marker": {
             "colorbar": {
              "outlinewidth": 0,
              "ticks": ""
             }
            },
            "type": "scatterpolar"
           }
          ],
          "scatterpolargl": [
           {
            "marker": {
             "colorbar": {
              "outlinewidth": 0,
              "ticks": ""
             }
            },
            "type": "scatterpolargl"
           }
          ],
          "scatterternary": [
           {
            "marker": {
             "colorbar": {
              "outlinewidth": 0,
              "ticks": ""
             }
            },
            "type": "scatterternary"
           }
          ],
          "surface": [
           {
            "colorbar": {
             "outlinewidth": 0,
             "ticks": ""
            },
            "colorscale": [
             [
              0,
              "#0d0887"
             ],
             [
              0.1111111111111111,
              "#46039f"
             ],
             [
              0.2222222222222222,
              "#7201a8"
             ],
             [
              0.3333333333333333,
              "#9c179e"
             ],
             [
              0.4444444444444444,
              "#bd3786"
             ],
             [
              0.5555555555555556,
              "#d8576b"
             ],
             [
              0.6666666666666666,
              "#ed7953"
             ],
             [
              0.7777777777777778,
              "#fb9f3a"
             ],
             [
              0.8888888888888888,
              "#fdca26"
             ],
             [
              1,
              "#f0f921"
             ]
            ],
            "type": "surface"
           }
          ],
          "table": [
           {
            "cells": {
             "fill": {
              "color": "#EBF0F8"
             },
             "line": {
              "color": "white"
             }
            },
            "header": {
             "fill": {
              "color": "#C8D4E3"
             },
             "line": {
              "color": "white"
             }
            },
            "type": "table"
           }
          ]
         },
         "layout": {
          "annotationdefaults": {
           "arrowcolor": "#2a3f5f",
           "arrowhead": 0,
           "arrowwidth": 1
          },
          "autotypenumbers": "strict",
          "coloraxis": {
           "colorbar": {
            "outlinewidth": 0,
            "ticks": ""
           }
          },
          "colorscale": {
           "diverging": [
            [
             0,
             "#8e0152"
            ],
            [
             0.1,
             "#c51b7d"
            ],
            [
             0.2,
             "#de77ae"
            ],
            [
             0.3,
             "#f1b6da"
            ],
            [
             0.4,
             "#fde0ef"
            ],
            [
             0.5,
             "#f7f7f7"
            ],
            [
             0.6,
             "#e6f5d0"
            ],
            [
             0.7,
             "#b8e186"
            ],
            [
             0.8,
             "#7fbc41"
            ],
            [
             0.9,
             "#4d9221"
            ],
            [
             1,
             "#276419"
            ]
           ],
           "sequential": [
            [
             0,
             "#0d0887"
            ],
            [
             0.1111111111111111,
             "#46039f"
            ],
            [
             0.2222222222222222,
             "#7201a8"
            ],
            [
             0.3333333333333333,
             "#9c179e"
            ],
            [
             0.4444444444444444,
             "#bd3786"
            ],
            [
             0.5555555555555556,
             "#d8576b"
            ],
            [
             0.6666666666666666,
             "#ed7953"
            ],
            [
             0.7777777777777778,
             "#fb9f3a"
            ],
            [
             0.8888888888888888,
             "#fdca26"
            ],
            [
             1,
             "#f0f921"
            ]
           ],
           "sequentialminus": [
            [
             0,
             "#0d0887"
            ],
            [
             0.1111111111111111,
             "#46039f"
            ],
            [
             0.2222222222222222,
             "#7201a8"
            ],
            [
             0.3333333333333333,
             "#9c179e"
            ],
            [
             0.4444444444444444,
             "#bd3786"
            ],
            [
             0.5555555555555556,
             "#d8576b"
            ],
            [
             0.6666666666666666,
             "#ed7953"
            ],
            [
             0.7777777777777778,
             "#fb9f3a"
            ],
            [
             0.8888888888888888,
             "#fdca26"
            ],
            [
             1,
             "#f0f921"
            ]
           ]
          },
          "colorway": [
           "#636efa",
           "#EF553B",
           "#00cc96",
           "#ab63fa",
           "#FFA15A",
           "#19d3f3",
           "#FF6692",
           "#B6E880",
           "#FF97FF",
           "#FECB52"
          ],
          "font": {
           "color": "#2a3f5f"
          },
          "geo": {
           "bgcolor": "white",
           "lakecolor": "white",
           "landcolor": "#E5ECF6",
           "showlakes": true,
           "showland": true,
           "subunitcolor": "white"
          },
          "hoverlabel": {
           "align": "left"
          },
          "hovermode": "closest",
          "mapbox": {
           "style": "light"
          },
          "paper_bgcolor": "white",
          "plot_bgcolor": "#E5ECF6",
          "polar": {
           "angularaxis": {
            "gridcolor": "white",
            "linecolor": "white",
            "ticks": ""
           },
           "bgcolor": "#E5ECF6",
           "radialaxis": {
            "gridcolor": "white",
            "linecolor": "white",
            "ticks": ""
           }
          },
          "scene": {
           "xaxis": {
            "backgroundcolor": "#E5ECF6",
            "gridcolor": "white",
            "gridwidth": 2,
            "linecolor": "white",
            "showbackground": true,
            "ticks": "",
            "zerolinecolor": "white"
           },
           "yaxis": {
            "backgroundcolor": "#E5ECF6",
            "gridcolor": "white",
            "gridwidth": 2,
            "linecolor": "white",
            "showbackground": true,
            "ticks": "",
            "zerolinecolor": "white"
           },
           "zaxis": {
            "backgroundcolor": "#E5ECF6",
            "gridcolor": "white",
            "gridwidth": 2,
            "linecolor": "white",
            "showbackground": true,
            "ticks": "",
            "zerolinecolor": "white"
           }
          },
          "shapedefaults": {
           "line": {
            "color": "#2a3f5f"
           }
          },
          "ternary": {
           "aaxis": {
            "gridcolor": "white",
            "linecolor": "white",
            "ticks": ""
           },
           "baxis": {
            "gridcolor": "white",
            "linecolor": "white",
            "ticks": ""
           },
           "bgcolor": "#E5ECF6",
           "caxis": {
            "gridcolor": "white",
            "linecolor": "white",
            "ticks": ""
           }
          },
          "title": {
           "x": 0.05
          },
          "xaxis": {
           "automargin": true,
           "gridcolor": "white",
           "linecolor": "white",
           "ticks": "",
           "title": {
            "standoff": 15
           },
           "zerolinecolor": "white",
           "zerolinewidth": 2
          },
          "yaxis": {
           "automargin": true,
           "gridcolor": "white",
           "linecolor": "white",
           "ticks": "",
           "title": {
            "standoff": 15
           },
           "zerolinecolor": "white",
           "zerolinewidth": 2
          }
         }
        },
        "title": {
         "text": "不同记忆规模与掩码比例下的记忆保留效果"
        },
        "width": 800
       }
      }
     },
     "metadata": {},
     "output_type": "display_data"
    }
   ],
   "source": [
    "\n",
    "# ---------------- 绘制结果 ----------------\n",
    "X, Y = np.meshgrid(mask_ratios, memory_sizes)\n",
    "Z = results\n",
    "\n",
    "fig = go.Figure(data=[go.Surface(z=Z, x=X, y=Y, colorscale='Viridis')])\n",
    "fig.update_layout(\n",
    "    title=\"不同记忆规模与掩码比例下的记忆保留效果\",\n",
    "    scene=dict(\n",
    "        xaxis_title=\"掩码比例\",\n",
    "        yaxis_title=\"记忆模式数量\",\n",
    "        zaxis_title=\"平均归一化海明距离\",\n",
    "        zaxis=dict(range=[0, 2])\n",
    "    ),\n",
    "    width=800,\n",
    "    height=600\n",
    ")\n",
    "\n",
    "fig.show()\n"
   ]
  }
 ],
 "metadata": {
  "kernelspec": {
   "display_name": "simplebtsp",
   "language": "python",
   "name": "python3"
  },
  "language_info": {
   "codemirror_mode": {
    "name": "ipython",
    "version": 3
   },
   "file_extension": ".py",
   "mimetype": "text/x-python",
   "name": "python",
   "nbconvert_exporter": "python",
   "pygments_lexer": "ipython3",
   "version": "3.9.23"
  }
 },
 "nbformat": 4,
 "nbformat_minor": 5
}
